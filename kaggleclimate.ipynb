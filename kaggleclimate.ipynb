{
  "nbformat": 4,
  "nbformat_minor": 0,
  "metadata": {
    "colab": {
      "name": "kaggleclimate.ipynb",
      "provenance": [],
      "collapsed_sections": [],
      "include_colab_link": true
    },
    "kernelspec": {
      "name": "python3",
      "display_name": "Python 3"
    },
    "language_info": {
      "name": "python"
    }
  },
  "cells": [
    {
      "cell_type": "markdown",
      "metadata": {
        "id": "view-in-github",
        "colab_type": "text"
      },
      "source": [
        "<a href=\"https://colab.research.google.com/github/kabirodavies/ML_classification/blob/main/kaggleclimate.ipynb\" target=\"_parent\"><img src=\"https://colab.research.google.com/assets/colab-badge.svg\" alt=\"Open In Colab\"/></a>"
      ]
    },
    {
      "cell_type": "code",
      "metadata": {
        "id": "fQur8jMpT6Fl"
      },
      "source": [
        "# !pip install gensim\n",
        "# !pip install python-Levenshtein"
      ],
      "execution_count": 1,
      "outputs": []
    },
    {
      "cell_type": "code",
      "metadata": {
        "id": "39SkSzPuFle1"
      },
      "source": [
        "# Let’s load the libraries\n",
        "\n",
        "import re    # for regular expressions \n",
        "import nltk  # for text manipulation \n",
        "import string \n",
        "import warnings \n",
        "import numpy as np \n",
        "import pandas as pd \n",
        "import seaborn as sns \n",
        "import matplotlib.pyplot as plt\n",
        "\n",
        "from sklearn.feature_extraction.text import TfidfVectorizer, CountVectorizer \n",
        "import gensim\n",
        "\n",
        "pd.set_option(\"display.max_colwidth\", 200) \n",
        "warnings.filterwarnings(\"ignore\", category=DeprecationWarning) \n",
        "\n",
        "%matplotlib inline\n",
        "\n",
        "# Let's be rebels and ignore warnings for now\n",
        "import warnings\n",
        "warnings.filterwarnings('ignore')"
      ],
      "execution_count": 2,
      "outputs": []
    },
    {
      "cell_type": "code",
      "metadata": {
        "colab": {
          "base_uri": "https://localhost:8080/",
          "height": 206
        },
        "id": "41u4fF6sCdFC",
        "outputId": "159cac69-fbbd-47ad-ff36-215bc6064981"
      },
      "source": [
        "#Urls\n",
        "url_train = 'https://raw.githubusercontent.com/kabirodavies/ML_classification/main/train.csv'\n",
        "url_test = 'https://raw.githubusercontent.com/kabirodavies/ML_classification/main/test.csv'\n",
        "url_sub = 'https://raw.githubusercontent.com/kabirodavies/ML_classification/main/sample_submission.csv'\n",
        "\n",
        "\n",
        "train = pd.read_csv(url_train)\n",
        "train.head()\n"
      ],
      "execution_count": 3,
      "outputs": [
        {
          "output_type": "execute_result",
          "data": {
            "text/html": [
              "<div>\n",
              "<style scoped>\n",
              "    .dataframe tbody tr th:only-of-type {\n",
              "        vertical-align: middle;\n",
              "    }\n",
              "\n",
              "    .dataframe tbody tr th {\n",
              "        vertical-align: top;\n",
              "    }\n",
              "\n",
              "    .dataframe thead th {\n",
              "        text-align: right;\n",
              "    }\n",
              "</style>\n",
              "<table border=\"1\" class=\"dataframe\">\n",
              "  <thead>\n",
              "    <tr style=\"text-align: right;\">\n",
              "      <th></th>\n",
              "      <th>sentiment</th>\n",
              "      <th>message</th>\n",
              "      <th>tweetid</th>\n",
              "    </tr>\n",
              "  </thead>\n",
              "  <tbody>\n",
              "    <tr>\n",
              "      <th>0</th>\n",
              "      <td>1</td>\n",
              "      <td>PolySciMajor EPA chief doesn't think carbon dioxide is main cause of global warming and.. wait, what!? https://t.co/yeLvcEFXkC via @mashable</td>\n",
              "      <td>625221</td>\n",
              "    </tr>\n",
              "    <tr>\n",
              "      <th>1</th>\n",
              "      <td>1</td>\n",
              "      <td>It's not like we lack evidence of anthropogenic global warming</td>\n",
              "      <td>126103</td>\n",
              "    </tr>\n",
              "    <tr>\n",
              "      <th>2</th>\n",
              "      <td>2</td>\n",
              "      <td>RT @RawStory: Researchers say we have three years to act on climate change before it’s too late https://t.co/WdT0KdUr2f https://t.co/Z0ANPT…</td>\n",
              "      <td>698562</td>\n",
              "    </tr>\n",
              "    <tr>\n",
              "      <th>3</th>\n",
              "      <td>1</td>\n",
              "      <td>#TodayinMaker# WIRED : 2016 was a pivotal year in the war on climate change https://t.co/44wOTxTLcD</td>\n",
              "      <td>573736</td>\n",
              "    </tr>\n",
              "    <tr>\n",
              "      <th>4</th>\n",
              "      <td>1</td>\n",
              "      <td>RT @SoyNovioDeTodas: It's 2016, and a racist, sexist, climate change denying bigot is leading in the polls. #ElectionNight</td>\n",
              "      <td>466954</td>\n",
              "    </tr>\n",
              "  </tbody>\n",
              "</table>\n",
              "</div>"
            ],
            "text/plain": [
              "   sentiment  ... tweetid\n",
              "0          1  ...  625221\n",
              "1          1  ...  126103\n",
              "2          2  ...  698562\n",
              "3          1  ...  573736\n",
              "4          1  ...  466954\n",
              "\n",
              "[5 rows x 3 columns]"
            ]
          },
          "metadata": {},
          "execution_count": 3
        }
      ]
    },
    {
      "cell_type": "code",
      "metadata": {
        "colab": {
          "base_uri": "https://localhost:8080/",
          "height": 206
        },
        "id": "_VuBKj7lGRhb",
        "outputId": "422b3703-cc6f-4032-99b0-345ee802e86b"
      },
      "source": [
        "test = pd.read_csv(url_test)\n",
        "test.head()"
      ],
      "execution_count": 4,
      "outputs": [
        {
          "output_type": "execute_result",
          "data": {
            "text/html": [
              "<div>\n",
              "<style scoped>\n",
              "    .dataframe tbody tr th:only-of-type {\n",
              "        vertical-align: middle;\n",
              "    }\n",
              "\n",
              "    .dataframe tbody tr th {\n",
              "        vertical-align: top;\n",
              "    }\n",
              "\n",
              "    .dataframe thead th {\n",
              "        text-align: right;\n",
              "    }\n",
              "</style>\n",
              "<table border=\"1\" class=\"dataframe\">\n",
              "  <thead>\n",
              "    <tr style=\"text-align: right;\">\n",
              "      <th></th>\n",
              "      <th>message</th>\n",
              "      <th>tweetid</th>\n",
              "    </tr>\n",
              "  </thead>\n",
              "  <tbody>\n",
              "    <tr>\n",
              "      <th>0</th>\n",
              "      <td>Europe will now be looking to China to make sure that it is not alone in fighting climate change… https://t.co/O7T8rCgwDq</td>\n",
              "      <td>169760</td>\n",
              "    </tr>\n",
              "    <tr>\n",
              "      <th>1</th>\n",
              "      <td>Combine this with the polling of staffers re climate change and womens' rights and you have a fascist state. https://t.co/ifrm7eexpj</td>\n",
              "      <td>35326</td>\n",
              "    </tr>\n",
              "    <tr>\n",
              "      <th>2</th>\n",
              "      <td>The scary, unimpeachable evidence that climate change is already here: https://t.co/yAedqcV9Ki #itstimetochange #climatechange @ZEROCO2_;..</td>\n",
              "      <td>224985</td>\n",
              "    </tr>\n",
              "    <tr>\n",
              "      <th>3</th>\n",
              "      <td>@Karoli @morgfair @OsborneInk @dailykos \\nPutin got to you too Jill ! \\nTrump doesn't believe in climate change at all \\nThinks it's s hoax</td>\n",
              "      <td>476263</td>\n",
              "    </tr>\n",
              "    <tr>\n",
              "      <th>4</th>\n",
              "      <td>RT @FakeWillMoore: 'Female orgasms cause global warming!'\\n-Sarcastic Republican</td>\n",
              "      <td>872928</td>\n",
              "    </tr>\n",
              "  </tbody>\n",
              "</table>\n",
              "</div>"
            ],
            "text/plain": [
              "                                                                                                                                       message  tweetid\n",
              "0                    Europe will now be looking to China to make sure that it is not alone in fighting climate change… https://t.co/O7T8rCgwDq   169760\n",
              "1         Combine this with the polling of staffers re climate change and womens' rights and you have a fascist state. https://t.co/ifrm7eexpj    35326\n",
              "2  The scary, unimpeachable evidence that climate change is already here: https://t.co/yAedqcV9Ki #itstimetochange #climatechange @ZEROCO2_;..   224985\n",
              "3  @Karoli @morgfair @OsborneInk @dailykos \\nPutin got to you too Jill ! \\nTrump doesn't believe in climate change at all \\nThinks it's s hoax   476263\n",
              "4                                                             RT @FakeWillMoore: 'Female orgasms cause global warming!'\\n-Sarcastic Republican   872928"
            ]
          },
          "metadata": {},
          "execution_count": 4
        }
      ]
    },
    {
      "cell_type": "code",
      "metadata": {
        "colab": {
          "base_uri": "https://localhost:8080/"
        },
        "id": "4hKhtiDjRslk",
        "outputId": "3b7101da-22c2-44e6-dd45-9796635594a5"
      },
      "source": [
        "train.shape, test.shape"
      ],
      "execution_count": 5,
      "outputs": [
        {
          "output_type": "execute_result",
          "data": {
            "text/plain": [
              "((15819, 3), (10546, 2))"
            ]
          },
          "metadata": {},
          "execution_count": 5
        }
      ]
    },
    {
      "cell_type": "code",
      "metadata": {
        "colab": {
          "base_uri": "https://localhost:8080/"
        },
        "id": "-J_XBU7ISYN0",
        "outputId": "b658247b-5e65-47cc-fe7b-2e7402b1c53a"
      },
      "source": [
        "combi = train.append(test, ignore_index=True, sort=True)\n",
        "combi.shape"
      ],
      "execution_count": 6,
      "outputs": [
        {
          "output_type": "execute_result",
          "data": {
            "text/plain": [
              "(26365, 3)"
            ]
          },
          "metadata": {},
          "execution_count": 6
        }
      ]
    },
    {
      "cell_type": "code",
      "metadata": {
        "colab": {
          "base_uri": "https://localhost:8080/",
          "height": 206
        },
        "id": "4GVDaNWtSau2",
        "outputId": "6a3e7fd4-4aac-4e53-fb54-4e95750bcff3"
      },
      "source": [
        "combi.head()"
      ],
      "execution_count": 7,
      "outputs": [
        {
          "output_type": "execute_result",
          "data": {
            "text/html": [
              "<div>\n",
              "<style scoped>\n",
              "    .dataframe tbody tr th:only-of-type {\n",
              "        vertical-align: middle;\n",
              "    }\n",
              "\n",
              "    .dataframe tbody tr th {\n",
              "        vertical-align: top;\n",
              "    }\n",
              "\n",
              "    .dataframe thead th {\n",
              "        text-align: right;\n",
              "    }\n",
              "</style>\n",
              "<table border=\"1\" class=\"dataframe\">\n",
              "  <thead>\n",
              "    <tr style=\"text-align: right;\">\n",
              "      <th></th>\n",
              "      <th>message</th>\n",
              "      <th>sentiment</th>\n",
              "      <th>tweetid</th>\n",
              "    </tr>\n",
              "  </thead>\n",
              "  <tbody>\n",
              "    <tr>\n",
              "      <th>0</th>\n",
              "      <td>PolySciMajor EPA chief doesn't think carbon dioxide is main cause of global warming and.. wait, what!? https://t.co/yeLvcEFXkC via @mashable</td>\n",
              "      <td>1.0</td>\n",
              "      <td>625221</td>\n",
              "    </tr>\n",
              "    <tr>\n",
              "      <th>1</th>\n",
              "      <td>It's not like we lack evidence of anthropogenic global warming</td>\n",
              "      <td>1.0</td>\n",
              "      <td>126103</td>\n",
              "    </tr>\n",
              "    <tr>\n",
              "      <th>2</th>\n",
              "      <td>RT @RawStory: Researchers say we have three years to act on climate change before it’s too late https://t.co/WdT0KdUr2f https://t.co/Z0ANPT…</td>\n",
              "      <td>2.0</td>\n",
              "      <td>698562</td>\n",
              "    </tr>\n",
              "    <tr>\n",
              "      <th>3</th>\n",
              "      <td>#TodayinMaker# WIRED : 2016 was a pivotal year in the war on climate change https://t.co/44wOTxTLcD</td>\n",
              "      <td>1.0</td>\n",
              "      <td>573736</td>\n",
              "    </tr>\n",
              "    <tr>\n",
              "      <th>4</th>\n",
              "      <td>RT @SoyNovioDeTodas: It's 2016, and a racist, sexist, climate change denying bigot is leading in the polls. #ElectionNight</td>\n",
              "      <td>1.0</td>\n",
              "      <td>466954</td>\n",
              "    </tr>\n",
              "  </tbody>\n",
              "</table>\n",
              "</div>"
            ],
            "text/plain": [
              "                                                                                                                                        message  ...  tweetid\n",
              "0  PolySciMajor EPA chief doesn't think carbon dioxide is main cause of global warming and.. wait, what!? https://t.co/yeLvcEFXkC via @mashable  ...   625221\n",
              "1                                                                                It's not like we lack evidence of anthropogenic global warming  ...   126103\n",
              "2  RT @RawStory: Researchers say we have three years to act on climate change before it’s too late https://t.co/WdT0KdUr2f https://t.co/Z0ANPT…  ...   698562\n",
              "3                                           #TodayinMaker# WIRED : 2016 was a pivotal year in the war on climate change https://t.co/44wOTxTLcD  ...   573736\n",
              "4                    RT @SoyNovioDeTodas: It's 2016, and a racist, sexist, climate change denying bigot is leading in the polls. #ElectionNight  ...   466954\n",
              "\n",
              "[5 rows x 3 columns]"
            ]
          },
          "metadata": {},
          "execution_count": 7
        }
      ]
    },
    {
      "cell_type": "markdown",
      "metadata": {
        "id": "IqxTo_DhPH44"
      },
      "source": [
        "#Text Pre_processing"
      ]
    },
    {
      "cell_type": "code",
      "metadata": {
        "id": "kQiLWGmZIn5B"
      },
      "source": [
        "#Removing Twitter Handles (@user)\n",
        "def remove_pattern(input_txt, pattern):\n",
        "    r = re.findall(pattern, input_txt)\n",
        "    for i in r:\n",
        "        input_txt = re.sub(i, '', input_txt)\n",
        "    return input_txt"
      ],
      "execution_count": 8,
      "outputs": []
    },
    {
      "cell_type": "code",
      "metadata": {
        "colab": {
          "base_uri": "https://localhost:8080/",
          "height": 363
        },
        "id": "jZ7WUJ75IpYP",
        "outputId": "9aa10189-a008-4eea-c9bc-840baca02d67"
      },
      "source": [
        "combi['message'] = np.vectorize(remove_pattern)(combi['message'], \"@[\\w]*\") \n",
        "combi.head(10)"
      ],
      "execution_count": 9,
      "outputs": [
        {
          "output_type": "execute_result",
          "data": {
            "text/html": [
              "<div>\n",
              "<style scoped>\n",
              "    .dataframe tbody tr th:only-of-type {\n",
              "        vertical-align: middle;\n",
              "    }\n",
              "\n",
              "    .dataframe tbody tr th {\n",
              "        vertical-align: top;\n",
              "    }\n",
              "\n",
              "    .dataframe thead th {\n",
              "        text-align: right;\n",
              "    }\n",
              "</style>\n",
              "<table border=\"1\" class=\"dataframe\">\n",
              "  <thead>\n",
              "    <tr style=\"text-align: right;\">\n",
              "      <th></th>\n",
              "      <th>message</th>\n",
              "      <th>sentiment</th>\n",
              "      <th>tweetid</th>\n",
              "    </tr>\n",
              "  </thead>\n",
              "  <tbody>\n",
              "    <tr>\n",
              "      <th>0</th>\n",
              "      <td>PolySciMajor EPA chief doesn't think carbon dioxide is main cause of global warming and.. wait, what!? https://t.co/yeLvcEFXkC via</td>\n",
              "      <td>1.0</td>\n",
              "      <td>625221</td>\n",
              "    </tr>\n",
              "    <tr>\n",
              "      <th>1</th>\n",
              "      <td>It's not like we lack evidence of anthropogenic global warming</td>\n",
              "      <td>1.0</td>\n",
              "      <td>126103</td>\n",
              "    </tr>\n",
              "    <tr>\n",
              "      <th>2</th>\n",
              "      <td>RT : Researchers say we have three years to act on climate change before it’s too late https://t.co/WdT0KdUr2f https://t.co/Z0ANPT…</td>\n",
              "      <td>2.0</td>\n",
              "      <td>698562</td>\n",
              "    </tr>\n",
              "    <tr>\n",
              "      <th>3</th>\n",
              "      <td>#TodayinMaker# WIRED : 2016 was a pivotal year in the war on climate change https://t.co/44wOTxTLcD</td>\n",
              "      <td>1.0</td>\n",
              "      <td>573736</td>\n",
              "    </tr>\n",
              "    <tr>\n",
              "      <th>4</th>\n",
              "      <td>RT : It's 2016, and a racist, sexist, climate change denying bigot is leading in the polls. #ElectionNight</td>\n",
              "      <td>1.0</td>\n",
              "      <td>466954</td>\n",
              "    </tr>\n",
              "    <tr>\n",
              "      <th>5</th>\n",
              "      <td>Worth a read whether you do or don't believe in climate change https://t.co/ggLZVNYjun https://t.co/7AFE2mAH8j</td>\n",
              "      <td>1.0</td>\n",
              "      <td>425577</td>\n",
              "    </tr>\n",
              "    <tr>\n",
              "      <th>6</th>\n",
              "      <td>RT : Mike Pence doesn’t believe in global warming or that smoking causes lung cancer. https://t.co/gvWYaauU8R</td>\n",
              "      <td>1.0</td>\n",
              "      <td>294933</td>\n",
              "    </tr>\n",
              "    <tr>\n",
              "      <th>7</th>\n",
              "      <td>RT : Six big things we can ALL do today to fight climate change, or how to be a climate activistÃ¢â‚¬Â¦ https://t.co/TYMLu6DbNM hÃ¢â‚¬Â¦</td>\n",
              "      <td>1.0</td>\n",
              "      <td>992717</td>\n",
              "    </tr>\n",
              "    <tr>\n",
              "      <th>8</th>\n",
              "      <td>My 8yo nephew is inconsolable. He wants to die of old age like me, but will perish in the fiery hellscape of climate change.</td>\n",
              "      <td>1.0</td>\n",
              "      <td>664510</td>\n",
              "    </tr>\n",
              "    <tr>\n",
              "      <th>9</th>\n",
              "      <td>RT : no offense… but like… how do you just not believe… in global warming………</td>\n",
              "      <td>1.0</td>\n",
              "      <td>260471</td>\n",
              "    </tr>\n",
              "  </tbody>\n",
              "</table>\n",
              "</div>"
            ],
            "text/plain": [
              "                                                                                                                                    message  ...  tweetid\n",
              "0       PolySciMajor EPA chief doesn't think carbon dioxide is main cause of global warming and.. wait, what!? https://t.co/yeLvcEFXkC via   ...   625221\n",
              "1                                                                            It's not like we lack evidence of anthropogenic global warming  ...   126103\n",
              "2       RT : Researchers say we have three years to act on climate change before it’s too late https://t.co/WdT0KdUr2f https://t.co/Z0ANPT…  ...   698562\n",
              "3                                       #TodayinMaker# WIRED : 2016 was a pivotal year in the war on climate change https://t.co/44wOTxTLcD  ...   573736\n",
              "4                                RT : It's 2016, and a racist, sexist, climate change denying bigot is leading in the polls. #ElectionNight  ...   466954\n",
              "5                            Worth a read whether you do or don't believe in climate change https://t.co/ggLZVNYjun https://t.co/7AFE2mAH8j  ...   425577\n",
              "6                             RT : Mike Pence doesn’t believe in global warming or that smoking causes lung cancer. https://t.co/gvWYaauU8R  ...   294933\n",
              "7  RT : Six big things we can ALL do today to fight climate change, or how to be a climate activistÃ¢â‚¬Â¦ https://t.co/TYMLu6DbNM hÃ¢â‚¬Â¦  ...   992717\n",
              "8              My 8yo nephew is inconsolable. He wants to die of old age like me, but will perish in the fiery hellscape of climate change.  ...   664510\n",
              "9                                                              RT : no offense… but like… how do you just not believe… in global warming………  ...   260471\n",
              "\n",
              "[10 rows x 3 columns]"
            ]
          },
          "metadata": {},
          "execution_count": 9
        }
      ]
    },
    {
      "cell_type": "code",
      "metadata": {
        "id": "FyGUQprwTVEe"
      },
      "source": [
        "#Data Cleaning with RegEx\n",
        "def clean_text(text):\n",
        "  text = re.sub(r'@[A-Za-z0-9]+', '', text) # Remove @mentions\n",
        "  text = re.sub(r'#', '', text) # Remove '#' symbol\n",
        "  text = re.sub(r':', '', text) # Remove ':' symbol\n",
        "  text = re.sub(r'rt[\\s]+', '', text) #Remove RT\n",
        "  text = re.sub(r'https?:\\/\\/\\S+', '', text) # Remove hyperlink\n",
        "  text = re.sub(r'\\w*\\d\\w*', '', text) # Remove numbers\n",
        "  return text"
      ],
      "execution_count": 10,
      "outputs": []
    },
    {
      "cell_type": "code",
      "metadata": {
        "colab": {
          "base_uri": "https://localhost:8080/",
          "height": 363
        },
        "id": "Lj-zrymJJNqh",
        "outputId": "c97656b5-0b32-43d6-df88-c6e012cdde85"
      },
      "source": [
        "#Removing Punctuations, Numbers, and Special Characters\n",
        "combi['message'] = np.vectorize(clean_text)(combi['message']) \n",
        "combi.head(10)"
      ],
      "execution_count": 11,
      "outputs": [
        {
          "output_type": "execute_result",
          "data": {
            "text/html": [
              "<div>\n",
              "<style scoped>\n",
              "    .dataframe tbody tr th:only-of-type {\n",
              "        vertical-align: middle;\n",
              "    }\n",
              "\n",
              "    .dataframe tbody tr th {\n",
              "        vertical-align: top;\n",
              "    }\n",
              "\n",
              "    .dataframe thead th {\n",
              "        text-align: right;\n",
              "    }\n",
              "</style>\n",
              "<table border=\"1\" class=\"dataframe\">\n",
              "  <thead>\n",
              "    <tr style=\"text-align: right;\">\n",
              "      <th></th>\n",
              "      <th>message</th>\n",
              "      <th>sentiment</th>\n",
              "      <th>tweetid</th>\n",
              "    </tr>\n",
              "  </thead>\n",
              "  <tbody>\n",
              "    <tr>\n",
              "      <th>0</th>\n",
              "      <td>PolySciMajor EPA chief doesn't think carbon dioxide is main cause of global warming and.. wait, what!? https//t.co/yeLvcEFXkC via</td>\n",
              "      <td>1.0</td>\n",
              "      <td>625221</td>\n",
              "    </tr>\n",
              "    <tr>\n",
              "      <th>1</th>\n",
              "      <td>It's not like we lack evidence of anthropogenic global warming</td>\n",
              "      <td>1.0</td>\n",
              "      <td>126103</td>\n",
              "    </tr>\n",
              "    <tr>\n",
              "      <th>2</th>\n",
              "      <td>RT  Researchers say we have three years to act on climate change before it’s too late https//t.co/ https//t.co/…</td>\n",
              "      <td>2.0</td>\n",
              "      <td>698562</td>\n",
              "    </tr>\n",
              "    <tr>\n",
              "      <th>3</th>\n",
              "      <td>TodayinMaker WIRED   was a pivotal year in the war on climate change https//t.co/</td>\n",
              "      <td>1.0</td>\n",
              "      <td>573736</td>\n",
              "    </tr>\n",
              "    <tr>\n",
              "      <th>4</th>\n",
              "      <td>RT  It's , and a racist, sexist, climate change denying bigot is leading in the polls. ElectionNight</td>\n",
              "      <td>1.0</td>\n",
              "      <td>466954</td>\n",
              "    </tr>\n",
              "    <tr>\n",
              "      <th>5</th>\n",
              "      <td>Worth a read whether you do or don't believe in climate change https//t.co/ggLZVNYjun https//t.co/</td>\n",
              "      <td>1.0</td>\n",
              "      <td>425577</td>\n",
              "    </tr>\n",
              "    <tr>\n",
              "      <th>6</th>\n",
              "      <td>RT  Mike Pence doesn’t believe in global warming or that smoking causes lung cancer. https//t.co/</td>\n",
              "      <td>1.0</td>\n",
              "      <td>294933</td>\n",
              "    </tr>\n",
              "    <tr>\n",
              "      <th>7</th>\n",
              "      <td>RT  Six big things we can ALL do today to fight climate change, or how to be a climate activistÃ¢â‚¬Â¦ https//t.co/ hÃ¢â‚¬Â¦</td>\n",
              "      <td>1.0</td>\n",
              "      <td>992717</td>\n",
              "    </tr>\n",
              "    <tr>\n",
              "      <th>8</th>\n",
              "      <td>My  nephew is inconsolable. He wants to die of old age like me, but will perish in the fiery hellscape of climate change.</td>\n",
              "      <td>1.0</td>\n",
              "      <td>664510</td>\n",
              "    </tr>\n",
              "    <tr>\n",
              "      <th>9</th>\n",
              "      <td>RT  no offense… but like… how do you just not believe… in global warming………</td>\n",
              "      <td>1.0</td>\n",
              "      <td>260471</td>\n",
              "    </tr>\n",
              "  </tbody>\n",
              "</table>\n",
              "</div>"
            ],
            "text/plain": [
              "                                                                                                                              message  ...  tweetid\n",
              "0  PolySciMajor EPA chief doesn't think carbon dioxide is main cause of global warming and.. wait, what!? https//t.co/yeLvcEFXkC via   ...   625221\n",
              "1                                                                      It's not like we lack evidence of anthropogenic global warming  ...   126103\n",
              "2                    RT  Researchers say we have three years to act on climate change before it’s too late https//t.co/ https//t.co/…  ...   698562\n",
              "3                                                   TodayinMaker WIRED   was a pivotal year in the war on climate change https//t.co/  ...   573736\n",
              "4                                RT  It's , and a racist, sexist, climate change denying bigot is leading in the polls. ElectionNight  ...   466954\n",
              "5                                  Worth a read whether you do or don't believe in climate change https//t.co/ggLZVNYjun https//t.co/  ...   425577\n",
              "6                                   RT  Mike Pence doesn’t believe in global warming or that smoking causes lung cancer. https//t.co/  ...   294933\n",
              "7        RT  Six big things we can ALL do today to fight climate change, or how to be a climate activistÃ¢â‚¬Â¦ https//t.co/ hÃ¢â‚¬Â¦  ...   992717\n",
              "8           My  nephew is inconsolable. He wants to die of old age like me, but will perish in the fiery hellscape of climate change.  ...   664510\n",
              "9                                                         RT  no offense… but like… how do you just not believe… in global warming………  ...   260471\n",
              "\n",
              "[10 rows x 3 columns]"
            ]
          },
          "metadata": {},
          "execution_count": 11
        }
      ]
    },
    {
      "cell_type": "code",
      "metadata": {
        "id": "MGR5QTtXT52V"
      },
      "source": [
        "#Removing Hyperlinks\n",
        "def remove_hyperlink(word):       \n",
        "    return re.sub(r\"http\\S+\", \"\", word)\n",
        "combi['message'] = np.vectorize(remove_hyperlink)(combi['message']) "
      ],
      "execution_count": 12,
      "outputs": []
    },
    {
      "cell_type": "code",
      "metadata": {
        "id": "6WfYRaXWULpY"
      },
      "source": [
        "#Convert Text to lowercase characters\n",
        "def to_lower(word):\n",
        "  word = word.lower()\n",
        "  return word\n",
        "combi['message'] = np.vectorize(to_lower)(combi['message']) "
      ],
      "execution_count": 13,
      "outputs": []
    },
    {
      "cell_type": "code",
      "metadata": {
        "colab": {
          "base_uri": "https://localhost:8080/",
          "height": 363
        },
        "id": "WIhY-y-WJNki",
        "outputId": "91e726ad-10a9-45d3-ccb1-f76081d65d4e"
      },
      "source": [
        "#Removing Short Words\n",
        "combi.message = combi.message.apply(lambda x: ' '.join([w for w in x.split() if len(w) > 2]))\n",
        "combi.head(10)"
      ],
      "execution_count": 14,
      "outputs": [
        {
          "output_type": "execute_result",
          "data": {
            "text/html": [
              "<div>\n",
              "<style scoped>\n",
              "    .dataframe tbody tr th:only-of-type {\n",
              "        vertical-align: middle;\n",
              "    }\n",
              "\n",
              "    .dataframe tbody tr th {\n",
              "        vertical-align: top;\n",
              "    }\n",
              "\n",
              "    .dataframe thead th {\n",
              "        text-align: right;\n",
              "    }\n",
              "</style>\n",
              "<table border=\"1\" class=\"dataframe\">\n",
              "  <thead>\n",
              "    <tr style=\"text-align: right;\">\n",
              "      <th></th>\n",
              "      <th>message</th>\n",
              "      <th>sentiment</th>\n",
              "      <th>tweetid</th>\n",
              "    </tr>\n",
              "  </thead>\n",
              "  <tbody>\n",
              "    <tr>\n",
              "      <th>0</th>\n",
              "      <td>polyscimajor epa chief doesn't think carbon dioxide main cause global warming and.. wait, what!? via</td>\n",
              "      <td>1.0</td>\n",
              "      <td>625221</td>\n",
              "    </tr>\n",
              "    <tr>\n",
              "      <th>1</th>\n",
              "      <td>it's not like lack evidence anthropogenic global warming</td>\n",
              "      <td>1.0</td>\n",
              "      <td>126103</td>\n",
              "    </tr>\n",
              "    <tr>\n",
              "      <th>2</th>\n",
              "      <td>researchers say have three years act climate change before it’s too late</td>\n",
              "      <td>2.0</td>\n",
              "      <td>698562</td>\n",
              "    </tr>\n",
              "    <tr>\n",
              "      <th>3</th>\n",
              "      <td>todayinmaker wired was pivotal year the war climate change</td>\n",
              "      <td>1.0</td>\n",
              "      <td>573736</td>\n",
              "    </tr>\n",
              "    <tr>\n",
              "      <th>4</th>\n",
              "      <td>it's and racist, sexist, climate change denying bigot leading the polls. electionnight</td>\n",
              "      <td>1.0</td>\n",
              "      <td>466954</td>\n",
              "    </tr>\n",
              "    <tr>\n",
              "      <th>5</th>\n",
              "      <td>worth read whether you don't believe climate change</td>\n",
              "      <td>1.0</td>\n",
              "      <td>425577</td>\n",
              "    </tr>\n",
              "    <tr>\n",
              "      <th>6</th>\n",
              "      <td>mike pence doesn’t believe global warming that smoking causes lung cancer.</td>\n",
              "      <td>1.0</td>\n",
              "      <td>294933</td>\n",
              "    </tr>\n",
              "    <tr>\n",
              "      <th>7</th>\n",
              "      <td>six big things can all today fight climate change, how climate activistã¢â‚¬â¦ hã¢â‚¬â¦</td>\n",
              "      <td>1.0</td>\n",
              "      <td>992717</td>\n",
              "    </tr>\n",
              "    <tr>\n",
              "      <th>8</th>\n",
              "      <td>nephew inconsolable. wants die old age like me, but will perish the fiery hellscape climate change.</td>\n",
              "      <td>1.0</td>\n",
              "      <td>664510</td>\n",
              "    </tr>\n",
              "    <tr>\n",
              "      <th>9</th>\n",
              "      <td>offense… but like… how you just not believe… global warming………</td>\n",
              "      <td>1.0</td>\n",
              "      <td>260471</td>\n",
              "    </tr>\n",
              "  </tbody>\n",
              "</table>\n",
              "</div>"
            ],
            "text/plain": [
              "                                                                                                message  ...  tweetid\n",
              "0  polyscimajor epa chief doesn't think carbon dioxide main cause global warming and.. wait, what!? via  ...   625221\n",
              "1                                              it's not like lack evidence anthropogenic global warming  ...   126103\n",
              "2                              researchers say have three years act climate change before it’s too late  ...   698562\n",
              "3                                            todayinmaker wired was pivotal year the war climate change  ...   573736\n",
              "4                it's and racist, sexist, climate change denying bigot leading the polls. electionnight  ...   466954\n",
              "5                                                   worth read whether you don't believe climate change  ...   425577\n",
              "6                            mike pence doesn’t believe global warming that smoking causes lung cancer.  ...   294933\n",
              "7               six big things can all today fight climate change, how climate activistã¢â‚¬â¦ hã¢â‚¬â¦  ...   992717\n",
              "8   nephew inconsolable. wants die old age like me, but will perish the fiery hellscape climate change.  ...   664510\n",
              "9                                        offense… but like… how you just not believe… global warming………  ...   260471\n",
              "\n",
              "[10 rows x 3 columns]"
            ]
          },
          "metadata": {},
          "execution_count": 14
        }
      ]
    },
    {
      "cell_type": "code",
      "metadata": {
        "id": "fP2kNuPDTKsR"
      },
      "source": [
        ""
      ],
      "execution_count": 14,
      "outputs": []
    },
    {
      "cell_type": "markdown",
      "metadata": {
        "id": "1OWwauB8KRAH"
      },
      "source": [
        "#Text Normalization"
      ]
    },
    {
      "cell_type": "code",
      "metadata": {
        "colab": {
          "base_uri": "https://localhost:8080/"
        },
        "id": "WZruiUc6JNSI",
        "outputId": "b2d3f938-d341-483a-e22c-9e1788a70b68"
      },
      "source": [
        "tokenized_tweet  = combi.message.apply(lambda x: x.split())\n",
        "tokenized_tweet .head()"
      ],
      "execution_count": 15,
      "outputs": [
        {
          "output_type": "execute_result",
          "data": {
            "text/plain": [
              "0    [polyscimajor, epa, chief, doesn't, think, carbon, dioxide, main, cause, global, warming, and.., wait,, what!?, via]\n",
              "1                                                       [it's, not, like, lack, evidence, anthropogenic, global, warming]\n",
              "2                                   [researchers, say, have, three, years, act, climate, change, before, it’s, too, late]\n",
              "3                                                    [todayinmaker, wired, was, pivotal, year, the, war, climate, change]\n",
              "4                     [it's, and, racist,, sexist,, climate, change, denying, bigot, leading, the, polls., electionnight]\n",
              "Name: message, dtype: object"
            ]
          },
          "metadata": {},
          "execution_count": 15
        }
      ]
    },
    {
      "cell_type": "markdown",
      "metadata": {
        "id": "UZ0o8lvu8htR"
      },
      "source": [
        "###stemming"
      ]
    },
    {
      "cell_type": "code",
      "metadata": {
        "id": "yCbLCT_eJNMH"
      },
      "source": [
        "# # Now we can normalize the tokenized text.\n",
        "\n",
        "# from nltk.stem.porter import * \n",
        "# stemmer = PorterStemmer() \n",
        "# tokenized_tweet = tokenized_tweet.apply(lambda x: [stemmer.stem(i) for i in x]) # stemming\n",
        "# tokenized_tweet.head()"
      ],
      "execution_count": 16,
      "outputs": []
    },
    {
      "cell_type": "markdown",
      "metadata": {
        "id": "hxvBTA558l0B"
      },
      "source": [
        "###Lemmatization"
      ]
    },
    {
      "cell_type": "code",
      "metadata": {
        "colab": {
          "base_uri": "https://localhost:8080/"
        },
        "id": "rWhYNlrW8la4",
        "outputId": "b3bfe289-8eb9-43fd-99b8-4bf3d2993f29"
      },
      "source": [
        "from nltk.stem import WordNetLemmatizer\n",
        "nltk.download('wordnet')\n",
        "lemmatizer = WordNetLemmatizer()"
      ],
      "execution_count": 17,
      "outputs": [
        {
          "output_type": "stream",
          "name": "stdout",
          "text": [
            "[nltk_data] Downloading package wordnet to /root/nltk_data...\n",
            "[nltk_data]   Unzipping corpora/wordnet.zip.\n"
          ]
        }
      ]
    },
    {
      "cell_type": "code",
      "metadata": {
        "colab": {
          "base_uri": "https://localhost:8080/"
        },
        "id": "Fgg9ouov8yPr",
        "outputId": "ac54bf66-1e1c-4f40-ec6e-8ea4ca287639"
      },
      "source": [
        "#Lematize and Join\n",
        "def mbti_lemma(words, lemmatizer):       \n",
        "    return \" \".join([lemmatizer.lemmatize(word) for word in words])\n",
        "    \n",
        "tokenized_tweet = tokenized_tweet.apply(mbti_lemma, args=(lemmatizer, ))\n",
        "tokenized_tweet.head"
      ],
      "execution_count": 18,
      "outputs": [
        {
          "output_type": "execute_result",
          "data": {
            "text/plain": [
              "<bound method NDFrame.head of 0        polyscimajor epa chief doesn't think carbon dioxide main cause global warming and.. wait, what!? via\n",
              "1                                                    it's not like lack evidence anthropogenic global warming\n",
              "2                                      researcher say have three year act climate change before it’s too late\n",
              "3                                                   todayinmaker wired wa pivotal year the war climate change\n",
              "4                      it's and racist, sexist, climate change denying bigot leading the polls. electionnight\n",
              "                                                         ...                                                 \n",
              "26360          brb, writing poem about climate change. climatechange science poetry fakenews alternativefacts\n",
              "26361    the year climate change came home during the hottest year record, karl mathiesen travelled tasmania…\n",
              "26362              pacific country positive about fiji leading the global climate change conference november.\n",
              "26363                                     you’re hot, you must the cause for global warming. aldublaboroflove\n",
              "26364     climate change global issue that's only getting worse. eating plant based the least amount effothat\n",
              "Name: message, Length: 26365, dtype: object>"
            ]
          },
          "metadata": {},
          "execution_count": 18
        }
      ]
    },
    {
      "cell_type": "code",
      "metadata": {
        "id": "XKhueN_KJNI8"
      },
      "source": [
        "# # Now let’s stitch these tokens back together. It can easily be done using nltk’s MosesDetokenizer function.\n",
        "\n",
        "# for i in range(len(tokenized_tweet)):\n",
        "#     tokenized_tweet[i] = ' '.join(tokenized_tweet[i])    \n",
        "# combi['message'] = tokenized_tweet\n",
        "# combi.head(10)"
      ],
      "execution_count": 19,
      "outputs": []
    },
    {
      "cell_type": "code",
      "metadata": {
        "id": "bRdcHSLw77Hy"
      },
      "source": [
        "#Split Data"
      ],
      "execution_count": 20,
      "outputs": []
    },
    {
      "cell_type": "markdown",
      "metadata": {
        "id": "mjmIUqtqM1aZ"
      },
      "source": [
        "#Understanding the common words used in the tweets: WordCloud"
      ]
    },
    {
      "cell_type": "code",
      "metadata": {
        "id": "aa7ru-P28FQb"
      },
      "source": [
        "# Extracting train and test Word2Vec features \n",
        "train_a = combi.iloc[:15819,:]\n",
        "test_a = combi.iloc[15819:,:]"
      ],
      "execution_count": 21,
      "outputs": []
    },
    {
      "cell_type": "code",
      "metadata": {
        "colab": {
          "base_uri": "https://localhost:8080/",
          "height": 380
        },
        "id": "NSd--KAEJNDX",
        "outputId": "e19ee185-7ca2-4c0d-f7e5-a793aca36c55"
      },
      "source": [
        "all_words = ' '.join([text for text in train_a['message']]) \n",
        "\n",
        "from wordcloud import WordCloud\n",
        "wordcloud = WordCloud(width=800, height=500, random_state=21, max_font_size=110).generate(all_words) \n",
        "plt.figure(figsize=(10, 7)) \n",
        "plt.imshow(wordcloud, interpolation=\"bilinear\") \n",
        "plt.axis('off')\n",
        "plt.show()"
      ],
      "execution_count": 22,
      "outputs": [
        {
          "output_type": "display_data",
          "data": {
            "image/png": "[encoded data removed]",
            "text/plain": [
              "<Figure size 720x504 with 1 Axes>"
            ]
          },
          "metadata": {
            "needs_background": "light"
          }
        }
      ]
    },
    {
      "cell_type": "markdown",
      "metadata": {
        "id": "woV0InxC_z7p"
      },
      "source": [
        "##Resampling"
      ]
    },
    {
      "cell_type": "code",
      "metadata": {
        "id": "9yElQ4k0AWJy"
      },
      "source": [
        "from sklearn.utils import resample"
      ],
      "execution_count": 23,
      "outputs": []
    },
    {
      "cell_type": "code",
      "metadata": {
        "id": "kKZVoJYT_2YR"
      },
      "source": [
        "# Separate minority and majority classes\n",
        "news = train_a[train_a['sentiment']==2]\n",
        "support = train_a[train_a['sentiment']==1]\n",
        "neutral = train_a[train_a['sentiment']==0]\n",
        "anti = train_a[train_a['sentiment']==-1]"
      ],
      "execution_count": 24,
      "outputs": []
    },
    {
      "cell_type": "code",
      "metadata": {
        "colab": {
          "base_uri": "https://localhost:8080/",
          "height": 265
        },
        "id": "1rdTQ2W2AFsw",
        "outputId": "a0601b25-fcc0-43a2-8680-a08c92e877db"
      },
      "source": [
        "# Get all possible labels\n",
        "labels = train_a['sentiment'].unique()\n",
        "heights = [len(news),len(support), len(neutral), len(anti)]\n",
        "plt.bar(labels,heights,color='grey')\n",
        "plt.xticks(labels,['news', 'support','neutral', 'anti'])\n",
        "plt.ylabel(\"# of observations\")\n",
        "plt.show()"
      ],
      "execution_count": 25,
      "outputs": [
        {
          "output_type": "display_data",
          "data": {
            "image/png": "[encoded data removed]",
            "text/plain": [
              "<Figure size 432x288 with 1 Axes>"
            ]
          },
          "metadata": {
            "needs_background": "light"
          }
        }
      ]
    },
    {
      "cell_type": "code",
      "metadata": {
        "colab": {
          "base_uri": "https://localhost:8080/"
        },
        "id": "f1a97-kdALhF",
        "outputId": "15bd01b3-2a36-4ae9-8372-d6748b1f6815"
      },
      "source": [
        "# Sentiment percentage of data before resampling.\n",
        "print(f' Support: {round(len(support)/(len(train_a))*100, 2)} %')\n",
        "print(f' News: {round(len(news)/(len(train_a))*100, 2)} %')\n",
        "print(f' Neutral: {round(len(neutral)/(len(train_a))*100, 2)} %')\n",
        "print(f' Anti: {round(len(anti)/(len(train_a))*100, 2)} %')"
      ],
      "execution_count": 26,
      "outputs": [
        {
          "output_type": "stream",
          "name": "stdout",
          "text": [
            " Support: 53.92 %\n",
            " News: 23.01 %\n",
            " Neutral: 14.87 %\n",
            " Anti: 8.19 %\n"
          ]
        }
      ]
    },
    {
      "cell_type": "code",
      "metadata": {
        "id": "SPDKB4a-BbR4"
      },
      "source": [
        ""
      ],
      "execution_count": 26,
      "outputs": []
    },
    {
      "cell_type": "code",
      "metadata": {
        "id": "m8ascndqAMbm"
      },
      "source": [
        "# Upsample minority and combine with majority\n",
        "measure = int(len(support)/2)\n",
        "anti_upsampled = resample(anti, replace=True, n_samples= measure, random_state=123)\n",
        "neutral_upsampled = resample(neutral, replace=True, n_samples=len(news), random_state=123)\n",
        "support_downsampled = resample(support, replace=True, n_samples=len(news), random_state=123)\n",
        "\n",
        "\n",
        "upsampled = pd.concat([neutral_upsampled, news, anti_upsampled, support_downsampled])"
      ],
      "execution_count": 27,
      "outputs": []
    },
    {
      "cell_type": "code",
      "metadata": {
        "id": "qfqrVQBIAMWM"
      },
      "source": [
        "# Separate minority and majority classes\n",
        "up_news = upsampled[upsampled['sentiment']==2]\n",
        "up_support = upsampled[upsampled['sentiment']==1]\n",
        "up_neutral = upsampled[upsampled['sentiment']==0]\n",
        "up_anti = upsampled[upsampled['sentiment']==-1]"
      ],
      "execution_count": 28,
      "outputs": []
    },
    {
      "cell_type": "code",
      "metadata": {
        "colab": {
          "base_uri": "https://localhost:8080/"
        },
        "id": "RycfBmwEAMQR",
        "outputId": "0efe50ab-5aa2-4a5b-8742-f49ea24b6dcc"
      },
      "source": [
        "len(up_news), len(up_support), len(up_neutral), len(up_anti)"
      ],
      "execution_count": 29,
      "outputs": [
        {
          "output_type": "execute_result",
          "data": {
            "text/plain": [
              "(3640, 3640, 3640, 4265)"
            ]
          },
          "metadata": {},
          "execution_count": 29
        }
      ]
    },
    {
      "cell_type": "code",
      "metadata": {
        "colab": {
          "base_uri": "https://localhost:8080/",
          "height": 265
        },
        "id": "b-inJZmQALbi",
        "outputId": "3fc01177-eba0-4770-e08f-d7e2722fe899"
      },
      "source": [
        "# Get all possible labels\n",
        "labels = upsampled['sentiment'].unique()\n",
        "heights = [len(up_news),len(up_support), len(up_neutral), len(up_anti)]\n",
        "plt.bar(labels,heights,color='grey')\n",
        "plt.xticks(labels,['news', 'support','neutral', 'anti'])\n",
        "plt.ylabel(\"# of observations\")\n",
        "plt.show()"
      ],
      "execution_count": 30,
      "outputs": [
        {
          "output_type": "display_data",
          "data": {
            "image/png": "[encoded data removed]",
            "text/plain": [
              "<Figure size 432x288 with 1 Axes>"
            ]
          },
          "metadata": {
            "needs_background": "light"
          }
        }
      ]
    },
    {
      "cell_type": "code",
      "metadata": {
        "id": "IX8jwYKUAoxI"
      },
      "source": [
        ""
      ],
      "execution_count": 30,
      "outputs": []
    },
    {
      "cell_type": "code",
      "metadata": {
        "id": "46_-dx8jAorI"
      },
      "source": [
        ""
      ],
      "execution_count": 30,
      "outputs": []
    },
    {
      "cell_type": "code",
      "metadata": {
        "id": "PzC8pmU-Aoc2"
      },
      "source": [
        ""
      ],
      "execution_count": 30,
      "outputs": []
    },
    {
      "cell_type": "markdown",
      "metadata": {
        "id": "zMjAXwvsEv4f"
      },
      "source": [
        "#Bag-of-Words Features"
      ]
    },
    {
      "cell_type": "code",
      "metadata": {
        "colab": {
          "base_uri": "https://localhost:8080/"
        },
        "id": "R184EhO6EyZs",
        "outputId": "1e52e900-2b0d-4ac1-c592-6b7fc882eed8"
      },
      "source": [
        "bow_vectorizer = CountVectorizer(max_df=0.90, min_df=2, max_features=10000, stop_words='english')\n",
        "bow = bow_vectorizer.fit_transform(combi['message'])\n",
        "bow.shape"
      ],
      "execution_count": 31,
      "outputs": [
        {
          "output_type": "execute_result",
          "data": {
            "text/plain": [
              "(26365, 9806)"
            ]
          },
          "metadata": {},
          "execution_count": 31
        }
      ]
    },
    {
      "cell_type": "markdown",
      "metadata": {
        "id": "t1rD2OHTFP5U"
      },
      "source": [
        "#TF-IDF Features"
      ]
    },
    {
      "cell_type": "code",
      "metadata": {
        "colab": {
          "base_uri": "https://localhost:8080/"
        },
        "id": "5qxeTZR5FPl7",
        "outputId": "f5ce9609-9a88-4cbf-ec67-2c697fc55113"
      },
      "source": [
        "tfidf_vectorizer = TfidfVectorizer(max_df=0.90, min_df=2, max_features=10000, stop_words='english')\n",
        "tfidf = tfidf_vectorizer.fit_transform(combi['message'])\n",
        "tfidf.shape"
      ],
      "execution_count": 32,
      "outputs": [
        {
          "output_type": "execute_result",
          "data": {
            "text/plain": [
              "(26365, 9806)"
            ]
          },
          "metadata": {},
          "execution_count": 32
        }
      ]
    },
    {
      "cell_type": "markdown",
      "metadata": {
        "id": "_wCW6UnuFe5K"
      },
      "source": [
        "#Word2Vec Features"
      ]
    },
    {
      "cell_type": "markdown",
      "metadata": {
        "id": "5U22IhGhNIB5"
      },
      "source": [
        "###1.0 Word2Vec Embeddings"
      ]
    },
    {
      "cell_type": "code",
      "metadata": {
        "id": "gDmvdq9ON4MW"
      },
      "source": [
        "from sklearn.feature_extraction.text import TfidfVectorizer, CountVectorizer \n",
        "import gensim"
      ],
      "execution_count": 33,
      "outputs": []
    },
    {
      "cell_type": "code",
      "metadata": {
        "colab": {
          "base_uri": "https://localhost:8080/"
        },
        "id": "P1u_TAzKJNAx",
        "outputId": "0021890c-2bfa-4daa-d5dd-d543ba214b0f"
      },
      "source": [
        "%%time\n",
        "tokenized_text = combi['message'].apply(lambda x: x.split()) # tokenizing \n",
        "\n",
        "model_w2v = gensim.models.Word2Vec(\n",
        "            tokenized_text,\n",
        "            size=200, # desired no. of features/independent variables\n",
        "            window=5, # context window size\n",
        "            min_count=2, # Ignores all words with total frequency lower than 2.                                  \n",
        "            sg = 1, # 1 for skip-gram model\n",
        "            hs = 0,\n",
        "            negative = 10, # for negative sampling\n",
        "            workers= 32, # no.of cores\n",
        "            seed = 34\n",
        ") \n",
        "\n",
        "model_w2v.train(tokenized_text, total_examples= len(combi['message']), epochs=20)\n"
      ],
      "execution_count": 143,
      "outputs": [
        {
          "output_type": "stream",
          "name": "stdout",
          "text": [
            "CPU times: user 2min 5s, sys: 504 ms, total: 2min 6s\n",
            "Wall time: 1min 7s\n"
          ]
        }
      ]
    },
    {
      "cell_type": "code",
      "metadata": {
        "colab": {
          "base_uri": "https://localhost:8080/"
        },
        "id": "SN-ySWqmGmJr",
        "outputId": "0e47eeeb-c743-4e0c-a8a2-a19f4891630c"
      },
      "source": [
        "model_w2v.wv.most_similar(positive=\"food\")"
      ],
      "execution_count": 144,
      "outputs": [
        {
          "output_type": "execute_result",
          "data": {
            "text/plain": [
              "[('production.', 0.6341868042945862),\n",
              " ('breakã¢â‚¬â¦', 0.6106792688369751),\n",
              " ('keynote', 0.5792582035064697),\n",
              " ('protein', 0.5740395188331604),\n",
              " ('supplies', 0.5688886642456055),\n",
              " ('radically', 0.5655831694602966),\n",
              " ('insecurity', 0.5640910863876343),\n",
              " ('integrated', 0.561322033405304),\n",
              " ('elitists', 0.5592528581619263),\n",
              " ('supply', 0.5556211471557617)]"
            ]
          },
          "metadata": {},
          "execution_count": 144
        }
      ]
    },
    {
      "cell_type": "code",
      "metadata": {
        "colab": {
          "base_uri": "https://localhost:8080/"
        },
        "id": "RWIAXIowHHJC",
        "outputId": "4ad79d53-a052-4475-de1f-84bccde40f26"
      },
      "source": [
        "model_w2v.most_similar(positive=\"trump\")"
      ],
      "execution_count": 145,
      "outputs": [
        {
          "output_type": "execute_result",
          "data": {
            "text/plain": [
              "[('donald', 0.5204123854637146),\n",
              " ('donaldtrump', 0.5078788995742798),\n",
              " (\"trump'\", 0.5005189180374146),\n",
              " ('actions.', 0.4785692095756531),\n",
              " (\"fight'\", 0.4719555377960205),\n",
              " ('trolls', 0.4662978947162628),\n",
              " ('newslytweet', 0.46278274059295654),\n",
              " ('chineseã¢â‚¬â¦ã¢â‚¬â¦', 0.4621478021144867),\n",
              " ('defiant', 0.461813747882843),\n",
              " ('libtard', 0.45738279819488525)]"
            ]
          },
          "metadata": {},
          "execution_count": 145
        }
      ]
    },
    {
      "cell_type": "code",
      "metadata": {
        "colab": {
          "base_uri": "https://localhost:8080/"
        },
        "id": "AfP7gFsUHXdS",
        "outputId": "bb0b767b-a87f-4320-ab3a-12cf37c90a3d"
      },
      "source": [
        "model_w2v['heat']"
      ],
      "execution_count": 146,
      "outputs": [
        {
          "output_type": "execute_result",
          "data": {
            "text/plain": [
              "array([ 0.3003054 , -0.3210327 ,  0.4036706 , -0.04590044,  0.45128894,\n",
              "        0.17201154, -0.23952512,  0.43053898,  0.87701017,  0.5760988 ,\n",
              "       -0.1956934 , -0.19221349,  0.5929922 ,  0.21826406, -0.55399007,\n",
              "       -0.15892264,  0.10885897, -0.13177939,  0.05725956, -0.2688558 ,\n",
              "       -0.56922174,  0.1279231 ,  0.25749776,  0.6122286 , -0.02013   ,\n",
              "        0.40424135,  0.3688335 ,  0.28863192,  0.53771216,  0.75510085,\n",
              "       -0.61826   ,  0.24609166,  0.45702094, -0.10130067,  0.03209697,\n",
              "       -0.26257512, -0.58630943, -0.04808049,  0.01570677,  0.17804335,\n",
              "        0.04668799, -0.24658287, -0.531697  , -0.30786204, -0.05100261,\n",
              "       -0.15207852, -0.5932695 ,  0.07810497,  0.03867059, -0.6873259 ,\n",
              "       -0.5219634 , -0.05634512, -0.5114124 ,  0.59679365,  0.59123915,\n",
              "        0.29494867, -0.20417894,  0.22227176, -0.4162688 ,  0.02573966,\n",
              "        0.2127063 , -0.3219327 , -0.61157054, -0.10427174,  0.59313965,\n",
              "       -0.19166477, -0.25282592, -0.13231449, -0.31719935, -0.25503087,\n",
              "        0.32809225,  0.03474591,  0.61931896,  0.41275313,  0.24170844,\n",
              "       -0.44860536,  0.3339016 , -0.5536077 ,  0.8805878 , -0.22291079,\n",
              "       -0.27265579, -0.15749803, -0.10955018,  0.16265808,  0.0663301 ,\n",
              "       -0.17569467,  0.1242281 ,  0.45967177, -0.09429644, -0.17261161,\n",
              "       -0.26217368,  0.14480132,  0.7365964 ,  0.0336512 ,  0.75694567,\n",
              "        0.5399312 , -0.028722  , -0.32844925,  0.48636878,  0.8550731 ,\n",
              "       -0.24755982,  0.12219953,  0.17580238,  0.10403652, -0.16151863,\n",
              "       -0.07687513, -0.32273734,  0.09871663, -0.41434756,  0.20587622,\n",
              "        0.7623391 ,  0.5518928 , -0.35293895,  0.0882339 , -0.28359848,\n",
              "       -0.3781218 ,  0.44074386,  0.4054629 ,  0.46338287, -0.45248973,\n",
              "       -0.4212076 ,  0.00141735, -0.26198187,  0.6963312 , -0.3461752 ,\n",
              "        0.12229032, -0.032963  , -0.13247266, -0.28246886, -0.39414364,\n",
              "       -0.20264718, -0.21866323,  0.43225205,  0.05358139, -0.0860694 ,\n",
              "        0.15598193,  0.66624665, -0.18616624, -0.07099099, -0.21633668,\n",
              "        0.78394556, -0.4993196 ,  0.07065757,  0.07947096, -0.22453392,\n",
              "       -0.73321944, -0.46597758, -0.37262046, -0.2942808 ,  0.33604673,\n",
              "       -0.34007227,  0.32099664,  0.2297803 , -0.23404919, -0.16415244,\n",
              "       -0.54834867,  0.4711941 ,  0.5743129 ,  0.6275097 , -0.41930592,\n",
              "       -0.11110298,  0.51776254, -0.6696934 ,  0.0241391 ,  0.01438617,\n",
              "        1.0214262 ,  0.53304535,  0.36184704, -0.65101475, -0.3482227 ,\n",
              "       -0.7860264 , -0.06537315, -0.02319592, -0.14475423, -0.24947837,\n",
              "       -0.00788186, -0.40934175,  0.26203537,  0.2055827 ,  0.40040347,\n",
              "       -0.09096237,  0.04305974,  0.15956931,  0.34769985, -0.5313376 ,\n",
              "       -0.2605847 ,  0.1412594 ,  0.11410017, -0.10699738,  0.15252686,\n",
              "        0.28044066,  0.10970221, -0.52228266,  0.6763107 ,  0.2069702 ,\n",
              "        0.18652882, -0.7908277 , -0.70115143, -0.05582621,  0.6269704 ],\n",
              "      dtype=float32)"
            ]
          },
          "metadata": {},
          "execution_count": 146
        }
      ]
    },
    {
      "cell_type": "code",
      "metadata": {
        "colab": {
          "base_uri": "https://localhost:8080/"
        },
        "id": "pAJlEL5wHv75",
        "outputId": "9579d029-d68a-4fc3-fbb3-51f097556c2d"
      },
      "source": [
        "len(model_w2v['heat']) #The length of the vector is 200"
      ],
      "execution_count": 38,
      "outputs": [
        {
          "output_type": "execute_result",
          "data": {
            "text/plain": [
              "1000"
            ]
          },
          "metadata": {},
          "execution_count": 38
        }
      ]
    },
    {
      "cell_type": "markdown",
      "metadata": {
        "id": "Citz7FTTWDmU"
      },
      "source": [
        "###Preparing Vectors for text"
      ]
    },
    {
      "cell_type": "code",
      "metadata": {
        "id": "cIM6l51WJM6t"
      },
      "source": [
        "def word_vector(tokens, size):\n",
        "    vec = np.zeros(size).reshape((1, size))\n",
        "    count = 0\n",
        "    for word in tokens:\n",
        "        try:\n",
        "            vec += model_w2v[word].reshape((1, size))\n",
        "            count += 1.\n",
        "        except KeyError:  # handling the case where the token is not in vocabulary\n",
        "            continue\n",
        "    if count != 0:\n",
        "        vec /= count\n",
        "    return vec"
      ],
      "execution_count": 147,
      "outputs": []
    },
    {
      "cell_type": "code",
      "metadata": {
        "colab": {
          "base_uri": "https://localhost:8080/"
        },
        "id": "xcc1mj1TJM3c",
        "outputId": "20b09c2f-9fa3-4a85-b6dd-19222613e64a"
      },
      "source": [
        "wordvec_arrays = np.zeros((len(tokenized_tweet), 200)) \n",
        "for i in range(len(tokenized_tweet)):\n",
        "    wordvec_arrays[i,:] = word_vector(tokenized_tweet[i], 200)\n",
        "wordvec_df = pd.DataFrame(wordvec_arrays)\n",
        "wordvec_df.shape"
      ],
      "execution_count": 148,
      "outputs": [
        {
          "output_type": "execute_result",
          "data": {
            "text/plain": [
              "(26365, 200)"
            ]
          },
          "metadata": {},
          "execution_count": 148
        }
      ]
    },
    {
      "cell_type": "markdown",
      "metadata": {
        "id": "i3yMfn84JJQy"
      },
      "source": [
        "##2. Doc2Vec Embedding"
      ]
    },
    {
      "cell_type": "markdown",
      "metadata": {
        "id": "gf8TwVD2WgJ9"
      },
      "source": [
        "###More libraries"
      ]
    },
    {
      "cell_type": "code",
      "metadata": {
        "id": "QG3ONxuzJMz4"
      },
      "source": [
        "from tqdm import tqdm \n",
        "tqdm.pandas(desc=\"progress-bar\") \n",
        "from gensim.models.doc2vec import LabeledSentence"
      ],
      "execution_count": 149,
      "outputs": []
    },
    {
      "cell_type": "markdown",
      "metadata": {
        "id": "OFvN-zbvWwnh"
      },
      "source": [
        "####To implement doc2vec, we have to labelise or tag each tokenised tweet with unique IDs. We can do so by using Gensim’s LabeledSentence() function."
      ]
    },
    {
      "cell_type": "code",
      "metadata": {
        "id": "B1n7aSHnJMuE"
      },
      "source": [
        "def add_label(twt):\n",
        "    output = []\n",
        "    for i, s in zip(twt.index, twt):\n",
        "        output.append(LabeledSentence(s, [\"tweet_\" + str(i)]))\n",
        "    return output\n",
        "\n",
        "labeled_text = add_label(tokenized_tweet) # label all the tweets"
      ],
      "execution_count": 150,
      "outputs": []
    },
    {
      "cell_type": "code",
      "metadata": {
        "colab": {
          "base_uri": "https://localhost:8080/"
        },
        "id": "SNQawmTkJMoV",
        "outputId": "8f1a3411-d4cf-46b2-8858-777b9271e8b7"
      },
      "source": [
        "labeled_text[:6]"
      ],
      "execution_count": 151,
      "outputs": [
        {
          "output_type": "execute_result",
          "data": {
            "text/plain": [
              "[LabeledSentence(words=\"polyscimajor epa chief doesn't think carbon dioxide main cause global warming and.. wait, what!? via\", tags=['tweet_0']),\n",
              " LabeledSentence(words=\"it's not like lack evidence anthropogenic global warming\", tags=['tweet_1']),\n",
              " LabeledSentence(words='researcher say have three year act climate change before it’s too late', tags=['tweet_2']),\n",
              " LabeledSentence(words='todayinmaker wired wa pivotal year the war climate change', tags=['tweet_3']),\n",
              " LabeledSentence(words=\"it's and racist, sexist, climate change denying bigot leading the polls. electionnight\", tags=['tweet_4']),\n",
              " LabeledSentence(words=\"worth read whether you don't believe climate change\", tags=['tweet_5'])]"
            ]
          },
          "metadata": {},
          "execution_count": 151
        }
      ]
    },
    {
      "cell_type": "markdown",
      "metadata": {
        "id": "SKwV4Df3P__W"
      },
      "source": [
        "##Now let’s train a doc2vec model."
      ]
    },
    {
      "cell_type": "code",
      "metadata": {
        "colab": {
          "base_uri": "https://localhost:8080/"
        },
        "id": "38geod5pJMld",
        "outputId": "3f9b9bfa-4d12-4f31-e0fc-5fedf707a140"
      },
      "source": [
        "%%time \n",
        "model_d2v = gensim.models.Doc2Vec(dm=1, # dm = 1 for ‘distributed memory’ model\n",
        "                                  dm_mean=1, # dm_mean = 1 for using mean of the context word vectors\n",
        "                                  vector_size=200, # no. of desired features\n",
        "                                  window=5, # width of the context window                                  \n",
        "                                  negative=7, # if > 0 then negative sampling will be used\n",
        "                                  min_count=5, # Ignores all words with total frequency lower than 5.                                  \n",
        "                                  workers=32, # no. of cores                                  \n",
        "                                  alpha=0.1, # learning rate                                  \n",
        "                                  seed = 23, # for reproducibility\n",
        "                                 ) \n",
        "\n",
        "model_d2v.build_vocab([i for i in tqdm(labeled_text)])\n",
        "\n",
        "model_d2v.train(labeled_text, total_examples= len(train['message']), epochs=15)"
      ],
      "execution_count": 152,
      "outputs": [
        {
          "output_type": "stream",
          "name": "stderr",
          "text": [
            "100%|██████████| 26365/26365 [00:00<00:00, 1881684.33it/s]\n"
          ]
        },
        {
          "output_type": "stream",
          "name": "stdout",
          "text": [
            "CPU times: user 1min 28s, sys: 20.1 s, total: 1min 48s\n",
            "Wall time: 1min 18s\n"
          ]
        }
      ]
    },
    {
      "cell_type": "markdown",
      "metadata": {
        "id": "0j7JC9aoQQfm"
      },
      "source": [
        "####Preparing doc2vec Feature Set"
      ]
    },
    {
      "cell_type": "code",
      "metadata": {
        "colab": {
          "base_uri": "https://localhost:8080/"
        },
        "id": "q5Y144ozJMed",
        "outputId": "f7e83ac8-51bc-4503-8ec6-f287acb57a52"
      },
      "source": [
        "docvec_arrays = np.zeros((len(tokenized_tweet), 200)) \n",
        "for i in range(len(combi)):\n",
        "    docvec_arrays[i,:] = model_d2v.docvecs[i].reshape((1, 200))    \n",
        "\n",
        "docvec_df = pd.DataFrame(docvec_arrays) \n",
        "docvec_df.shape"
      ],
      "execution_count": 153,
      "outputs": [
        {
          "output_type": "execute_result",
          "data": {
            "text/plain": [
              "(26365, 200)"
            ]
          },
          "metadata": {},
          "execution_count": 153
        }
      ]
    },
    {
      "cell_type": "code",
      "metadata": {
        "colab": {
          "base_uri": "https://localhost:8080/"
        },
        "id": "Qame3XKBJ675",
        "outputId": "5aeea61d-6ae5-42dd-833d-2153014a924c"
      },
      "source": [
        "docvec_df.shape,  wordvec_df.shape"
      ],
      "execution_count": 154,
      "outputs": [
        {
          "output_type": "execute_result",
          "data": {
            "text/plain": [
              "((26365, 200), (26365, 200))"
            ]
          },
          "metadata": {},
          "execution_count": 154
        }
      ]
    },
    {
      "cell_type": "code",
      "metadata": {
        "colab": {
          "base_uri": "https://localhost:8080/"
        },
        "id": "tCPiAF8xLdV6",
        "outputId": "08c25183-ea4a-4309-a24b-3de3eebd1ccf"
      },
      "source": [
        "train.shape, test.shape"
      ],
      "execution_count": 155,
      "outputs": [
        {
          "output_type": "execute_result",
          "data": {
            "text/plain": [
              "((15819, 3), (10546, 2))"
            ]
          },
          "metadata": {},
          "execution_count": 155
        }
      ]
    },
    {
      "cell_type": "code",
      "metadata": {
        "id": "slvIBelNR4wR"
      },
      "source": [
        "# Extracting train and test BoW features \n",
        "train_bow = bow[:15819,:] \n",
        "test_bow = bow[15819:,:]"
      ],
      "execution_count": 156,
      "outputs": []
    },
    {
      "cell_type": "markdown",
      "metadata": {
        "id": "fdpa0aPnLvoO"
      },
      "source": [
        "#Encoding"
      ]
    },
    {
      "cell_type": "markdown",
      "metadata": {
        "id": "daiIMznLKNiR"
      },
      "source": [
        "Done with all the pre-modeling stages required to get the data in the proper form and shape. We will be building models on the datasets with different feature sets prepared in the earlier sections — Bag-of-Words, TF-IDF, word2vec vectors, and doc2vec vectors. We will use the following algorithms to build models:\n",
        "\n",
        "\n",
        "1.   Logistic Regression\n",
        "2.   Support Vector Machine\n",
        "3.   RandomForest\n",
        "4.   XGBoost"
      ]
    },
    {
      "cell_type": "markdown",
      "metadata": {
        "id": "vExPi2KLy6Gu"
      },
      "source": [
        "###Encoding Cat Var"
      ]
    },
    {
      "cell_type": "code",
      "metadata": {
        "id": "Qmxek7_tMg_i"
      },
      "source": [
        "from sklearn.preprocessing import LabelEncoder\n",
        "\n",
        "le = LabelEncoder()\n",
        "\n",
        "# Transforming categorical variable to label encoded form\n",
        "# train['lang_id'] = le.fit_transform(train['lang_id'])\n",
        "# data['lang_id'] = le.inverse_transform(data['lang_id'])\n",
        "# data['lang_id'] "
      ],
      "execution_count": 49,
      "outputs": []
    },
    {
      "cell_type": "markdown",
      "metadata": {
        "id": "Mu5jivY4Q6jc"
      },
      "source": [
        "#Logistic Regression"
      ]
    },
    {
      "cell_type": "code",
      "metadata": {
        "id": "fLBbOG1aQ75H"
      },
      "source": [
        "from sklearn.linear_model import LogisticRegression\n",
        "from sklearn.model_selection import train_test_split\n",
        "#Metrics\n",
        "from sklearn.metrics import classification_report\n",
        "from sklearn.metrics import accuracy_score\n",
        "from sklearn.metrics import f1_score"
      ],
      "execution_count": 50,
      "outputs": []
    },
    {
      "cell_type": "markdown",
      "metadata": {
        "id": "Ba9eCWZZTWwA"
      },
      "source": [
        "##Bag-of-Words Features"
      ]
    },
    {
      "cell_type": "code",
      "metadata": {
        "id": "gaE1g01qOLeX"
      },
      "source": [
        "# Extracting train and test BoW features \n",
        "train_bow = bow[:15819,:] \n",
        "test_bow = bow[15819:,:]\n",
        "\n",
        "# splitting data into training and validation set \n",
        "X_train, X_test, y_train, y_test = train_test_split(train_bow, train['sentiment'], random_state=123, test_size=0.25)\n",
        "\n",
        "lreg = LogisticRegression(solver='lbfgs') \n",
        "\n",
        "# training the model \n",
        "lreg.fit(X_train, y_train) \n",
        "\n",
        "y_pred = lreg.predict(X_test) # predicting"
      ],
      "execution_count": 127,
      "outputs": []
    },
    {
      "cell_type": "code",
      "metadata": {
        "id": "Q2WFBCVVOLap",
        "colab": {
          "base_uri": "https://localhost:8080/"
        },
        "outputId": "33fb824e-7a6d-4d45-b567-b429fc16d2a6"
      },
      "source": [
        "pred_y = lreg.predict(X_test) #Prediction of Test set\n",
        "pred_y_train = lreg.predict(X_train) #Prediction of Train set\n",
        "#Metrics\n",
        "print('Train Accuracy', accuracy_score(y_train, pred_y_train))\n",
        "print('Test Accuracy', accuracy_score(y_test, pred_y))\n",
        "print('Classification Report', classification_report(y_test, pred_y))"
      ],
      "execution_count": 128,
      "outputs": [
        {
          "output_type": "stream",
          "name": "stdout",
          "text": [
            "Train Accuracy 0.9220330411328388\n",
            "Test Accuracy 0.718331226295828\n",
            "Classification Report               precision    recall  f1-score   support\n",
            "\n",
            "          -1       0.70      0.42      0.53       325\n",
            "           0       0.54      0.45      0.49       590\n",
            "           1       0.75      0.85      0.80      2137\n",
            "           2       0.73      0.69      0.71       903\n",
            "\n",
            "    accuracy                           0.72      3955\n",
            "   macro avg       0.68      0.60      0.63      3955\n",
            "weighted avg       0.71      0.72      0.71      3955\n",
            "\n"
          ]
        }
      ]
    },
    {
      "cell_type": "markdown",
      "metadata": {
        "id": "8WWPKgDTTTnX"
      },
      "source": [
        "##TF-IDF Features\n"
      ]
    },
    {
      "cell_type": "code",
      "metadata": {
        "id": "b85AOVcHTTVp"
      },
      "source": [
        "# Extracting train and test TF-IDF features \n",
        "train_tfidf = tfidf[:15819,:]\n",
        "test_tfidf = tfidf[15819:,:] \n",
        "\n",
        "# splitting data into training and validation set \n",
        "tX_train, tX_test, ty_train, ty_test = train_test_split(train_tfidf, train['sentiment'], random_state=123, test_size=0.2)\n",
        "\n",
        "td_lreg = LogisticRegression(solver='lbfgs') \n",
        "\n",
        "# training the model \n",
        "td_lreg.fit(tX_train, ty_train) \n",
        "\n",
        "td_y_pred = td_lreg.predict(tX_test) # predicting"
      ],
      "execution_count": 130,
      "outputs": []
    },
    {
      "cell_type": "code",
      "metadata": {
        "colab": {
          "base_uri": "https://localhost:8080/"
        },
        "id": "CiI4MdQrTTRL",
        "outputId": "25ae0b54-9c9b-4e38-ad3d-2c3115d0af5e"
      },
      "source": [
        "pred_y = td_lreg.predict(tX_test) #Prediction of Test set\n",
        "pred_y_train = td_lreg.predict(tX_train) #Prediction of Train set\n",
        "#Metrics\n",
        "print('Train Accuracy', accuracy_score(ty_train, pred_y_train))\n",
        "print('Test Accuracy', accuracy_score(ty_test, pred_y))\n",
        "print('Classification Report', classification_report(ty_test, pred_y))"
      ],
      "execution_count": 131,
      "outputs": [
        {
          "output_type": "stream",
          "name": "stdout",
          "text": [
            "Train Accuracy 0.8248123271434216\n",
            "Test Accuracy 0.7054361567635904\n",
            "Classification Report               precision    recall  f1-score   support\n",
            "\n",
            "          -1       0.82      0.28      0.41       267\n",
            "           0       0.65      0.30      0.41       465\n",
            "           1       0.69      0.91      0.79      1711\n",
            "           2       0.76      0.64      0.69       721\n",
            "\n",
            "    accuracy                           0.71      3164\n",
            "   macro avg       0.73      0.53      0.58      3164\n",
            "weighted avg       0.71      0.71      0.68      3164\n",
            "\n"
          ]
        }
      ]
    },
    {
      "cell_type": "markdown",
      "metadata": {
        "id": "Gqmvv1rVUvIG"
      },
      "source": [
        "##Word2Vec Features"
      ]
    },
    {
      "cell_type": "code",
      "metadata": {
        "colab": {
          "base_uri": "https://localhost:8080/"
        },
        "id": "UaYu-DUIUuwP",
        "outputId": "48589ac1-63e8-4ef6-c5c2-8db95343b915"
      },
      "source": [
        "# Extracting train and test Word2Vec features \n",
        "train_w2v = wordvec_df.iloc[:15819,:]\n",
        "test_w2v = wordvec_df.iloc[15819:,:]\n",
        "\n",
        "# splitting data into training and validation set \n",
        "wX_train, wX_test, wy_train, wy_test = train_test_split(train_w2v, train['sentiment'], random_state=42, test_size=0.2)\n",
        "\n",
        "w_lreg = LogisticRegression(solver='lbfgs') \n",
        "\n",
        "# training the model \n",
        "w_lreg.fit(wX_train, wy_train) "
      ],
      "execution_count": 157,
      "outputs": [
        {
          "output_type": "execute_result",
          "data": {
            "text/plain": [
              "LogisticRegression()"
            ]
          },
          "metadata": {},
          "execution_count": 157
        }
      ]
    },
    {
      "cell_type": "code",
      "metadata": {
        "colab": {
          "base_uri": "https://localhost:8080/"
        },
        "id": "-SLqnlYRUus9",
        "outputId": "5a9c1d75-555f-41b2-b06d-4ceb6f3bd8d8"
      },
      "source": [
        "pred_y = w_lreg.predict(wX_test) #Prediction of Test set\n",
        "pred_y_train = w_lreg.predict(wX_train) #Prediction of Train set\n",
        "#Metrics\n",
        "print('Train Accuracy', accuracy_score(wy_train, pred_y_train))\n",
        "print('Test Accuracy', accuracy_score(wy_test, pred_y))\n",
        "print('Classification Report', classification_report(wy_test, pred_y))"
      ],
      "execution_count": 158,
      "outputs": [
        {
          "output_type": "stream",
          "name": "stdout",
          "text": [
            "Train Accuracy 0.5353615171868826\n",
            "Test Accuracy 0.554677623261694\n",
            "Classification Report               precision    recall  f1-score   support\n",
            "\n",
            "          -1       0.00      0.00      0.00       278\n",
            "           0       0.00      0.00      0.00       425\n",
            "           1       0.55      1.00      0.71      1755\n",
            "           2       0.00      0.00      0.00       706\n",
            "\n",
            "    accuracy                           0.55      3164\n",
            "   macro avg       0.14      0.25      0.18      3164\n",
            "weighted avg       0.31      0.55      0.40      3164\n",
            "\n"
          ]
        }
      ]
    },
    {
      "cell_type": "markdown",
      "metadata": {
        "id": "97pP56WFWxJ3"
      },
      "source": [
        "##Doc2Vec Features"
      ]
    },
    {
      "cell_type": "code",
      "metadata": {
        "id": "j8obhNZoWwm6"
      },
      "source": [
        "# Extracting train and test Doc2Vec features \n",
        "train_d2v = docvec_df.iloc[:15819,:]\n",
        "test_d2v = docvec_df.iloc[15819:,:]\n",
        "\n",
        "# splitting data into training and validation set \n",
        "dX_train, dX_test, dy_train, dy_test = train_test_split(train_d2v, train['sentiment'], random_state=42, test_size=0.3)\n",
        "\n",
        "d_lreg = LogisticRegression(solver='lbfgs') \n",
        "\n",
        "# training the model \n",
        "d_lreg.fit(dX_train, dy_train) \n",
        "\n",
        "# predicting\n",
        "d_y_pred = d_lreg.predict(dX_test) "
      ],
      "execution_count": 159,
      "outputs": []
    },
    {
      "cell_type": "code",
      "metadata": {
        "colab": {
          "base_uri": "https://localhost:8080/"
        },
        "id": "npw6cs1QUups",
        "outputId": "0d88df0a-ffd5-4c0b-bb9e-b829974c1d85"
      },
      "source": [
        "pred_y = d_lreg.predict(dX_test) #Prediction of Test set\n",
        "pred_y_train = d_lreg.predict(dX_train) #Prediction of Train set\n",
        "#Metrics\n",
        "print('Train Accuracy', accuracy_score(dy_train, pred_y_train))\n",
        "print('Test Accuracy', accuracy_score(dy_test, pred_y))\n",
        "print('Classification Report', classification_report(dy_test, pred_y))"
      ],
      "execution_count": 160,
      "outputs": [
        {
          "output_type": "stream",
          "name": "stdout",
          "text": [
            "Train Accuracy 0.5601914566964689\n",
            "Test Accuracy 0.5575221238938053\n",
            "Classification Report               precision    recall  f1-score   support\n",
            "\n",
            "          -1       0.00      0.00      0.00       401\n",
            "           0       0.34      0.03      0.06       666\n",
            "           1       0.58      0.89      0.70      2598\n",
            "           2       0.47      0.29      0.36      1081\n",
            "\n",
            "    accuracy                           0.56      4746\n",
            "   macro avg       0.35      0.30      0.28      4746\n",
            "weighted avg       0.47      0.56      0.47      4746\n",
            "\n"
          ]
        }
      ]
    },
    {
      "cell_type": "markdown",
      "metadata": {
        "id": "Q4FKVCatW5v0"
      },
      "source": [
        "#2. Support Vector Machine (SVM)\n"
      ]
    },
    {
      "cell_type": "code",
      "metadata": {
        "id": "TvHIQfzbXJlV"
      },
      "source": [
        "from sklearn import svm"
      ],
      "execution_count": null,
      "outputs": []
    },
    {
      "cell_type": "markdown",
      "metadata": {
        "id": "SMS4Ozn5XP7k"
      },
      "source": [
        "###Bag-of-Words Features"
      ]
    },
    {
      "cell_type": "code",
      "metadata": {
        "id": "whxVSgGHXBE8"
      },
      "source": [
        "svc = svm.SVC(kernel='linear', C=1, probability=True)\n",
        "svc.fit(X_train, y_train) \n",
        "svc_y_pred = svc.predict(X_test) # predicting"
      ],
      "execution_count": null,
      "outputs": []
    },
    {
      "cell_type": "code",
      "metadata": {
        "colab": {
          "base_uri": "https://localhost:8080/"
        },
        "id": "XnYMFJPOXmi1",
        "outputId": "408d3a36-9a35-474f-cc8b-c5d38bb0f584"
      },
      "source": [
        "#Metrics\n",
        "print(accuracy_score(y_test, svc_y_pred))\n",
        "print(classification_report(y_test, svc_y_pred))"
      ],
      "execution_count": null,
      "outputs": [
        {
          "output_type": "stream",
          "name": "stdout",
          "text": [
            "0.6858407079646017\n",
            "              precision    recall  f1-score   support\n",
            "\n",
            "          -1       0.53      0.47      0.50       401\n",
            "           0       0.45      0.51      0.48       666\n",
            "           1       0.76      0.77      0.77      2598\n",
            "           2       0.71      0.67      0.69      1081\n",
            "\n",
            "    accuracy                           0.69      4746\n",
            "   macro avg       0.61      0.60      0.61      4746\n",
            "weighted avg       0.69      0.69      0.69      4746\n",
            "\n"
          ]
        }
      ]
    },
    {
      "cell_type": "markdown",
      "metadata": {
        "id": "V9XM94DRX0L-"
      },
      "source": [
        "###TF-IDF Features"
      ]
    },
    {
      "cell_type": "code",
      "metadata": {
        "id": "nU0mKzKqXA-L"
      },
      "source": [
        "# training the model\n",
        "t_svc = svm.SVC(kernel='linear', C=1, probability=True)\n",
        "t_svc.fit(tX_train, ty_train)  \n",
        "tsvc_y_pred = t_svc.predict(tX_test)"
      ],
      "execution_count": null,
      "outputs": []
    },
    {
      "cell_type": "code",
      "metadata": {
        "colab": {
          "base_uri": "https://localhost:8080/"
        },
        "id": "zGoYIrLSXA1Q",
        "outputId": "67faac24-703d-4131-8f92-08646a9dcd5f"
      },
      "source": [
        "#Metrics\n",
        "print(accuracy_score(ty_test, svc_y_pred))\n",
        "print(classification_report(ty_test, svc_y_pred))"
      ],
      "execution_count": null,
      "outputs": [
        {
          "output_type": "stream",
          "name": "stdout",
          "text": [
            "0.6858407079646017\n",
            "              precision    recall  f1-score   support\n",
            "\n",
            "          -1       0.53      0.47      0.50       401\n",
            "           0       0.45      0.51      0.48       666\n",
            "           1       0.76      0.77      0.77      2598\n",
            "           2       0.71      0.67      0.69      1081\n",
            "\n",
            "    accuracy                           0.69      4746\n",
            "   macro avg       0.61      0.60      0.61      4746\n",
            "weighted avg       0.69      0.69      0.69      4746\n",
            "\n"
          ]
        }
      ]
    },
    {
      "cell_type": "markdown",
      "metadata": {
        "id": "MwPWoeL4aCDr"
      },
      "source": [
        "###Word2Vec Features\n",
        "\n"
      ]
    },
    {
      "cell_type": "code",
      "metadata": {
        "colab": {
          "base_uri": "https://localhost:8080/"
        },
        "id": "j9QFmYSAXAqI",
        "outputId": "caf5f0ea-d8f0-4b30-c01b-51197b1e1a75"
      },
      "source": [
        "s_w_svc = svm.SVC(kernel='linear', C=1, probability=True) \n",
        "\n",
        "# training the model \n",
        "s_w_svc.fit(wX_train, wy_train)\n",
        "s_y_pred = s_w_svc.predict(wX_test) # predicting\n",
        "\n",
        "#Metrics\n",
        "print(accuracy_score(wy_test, s_y_pred))\n",
        "print(classification_report(wy_test, s_y_pred))"
      ],
      "execution_count": null,
      "outputs": [
        {
          "output_type": "stream",
          "name": "stdout",
          "text": [
            "0.5474083438685209\n",
            "              precision    recall  f1-score   support\n",
            "\n",
            "          -1       0.00      0.00      0.00       401\n",
            "           0       0.00      0.00      0.00       666\n",
            "           1       0.55      1.00      0.71      2598\n",
            "           2       0.00      0.00      0.00      1081\n",
            "\n",
            "    accuracy                           0.55      4746\n",
            "   macro avg       0.14      0.25      0.18      4746\n",
            "weighted avg       0.30      0.55      0.39      4746\n",
            "\n"
          ]
        }
      ]
    },
    {
      "cell_type": "markdown",
      "metadata": {
        "id": "ZD_-YY2vapUd"
      },
      "source": [
        "###Doc2Vec Features"
      ]
    },
    {
      "cell_type": "code",
      "metadata": {
        "colab": {
          "base_uri": "https://localhost:8080/"
        },
        "id": "YwhRZDeJXAlh",
        "outputId": "149e4168-92dd-446a-d7bf-0f245a91752b"
      },
      "source": [
        "doc_svc = svm.SVC(kernel='linear', C=1, probability=True) \n",
        "\n",
        "# training the model \n",
        "doc_svc.fit(dX_train, dy_train)\n",
        "doc_pred = doc_svc.predict(dX_test) # predicting\n",
        "\n",
        "#Metrics\n",
        "print(accuracy_score(dy_test, doc_pred))\n",
        "print(classification_report(dy_test, doc_pred))"
      ],
      "execution_count": null,
      "outputs": [
        {
          "output_type": "stream",
          "name": "stdout",
          "text": [
            "0.5474083438685209\n",
            "              precision    recall  f1-score   support\n",
            "\n",
            "          -1       0.00      0.00      0.00       401\n",
            "           0       0.00      0.00      0.00       666\n",
            "           1       0.55      1.00      0.71      2598\n",
            "           2       0.00      0.00      0.00      1081\n",
            "\n",
            "    accuracy                           0.55      4746\n",
            "   macro avg       0.14      0.25      0.18      4746\n",
            "weighted avg       0.30      0.55      0.39      4746\n",
            "\n"
          ]
        }
      ]
    },
    {
      "cell_type": "markdown",
      "metadata": {
        "id": "5XudCkBek5oK"
      },
      "source": [
        "#Tuning"
      ]
    },
    {
      "cell_type": "markdown",
      "metadata": {
        "id": "58yEZSqsdryO"
      },
      "source": [
        "##Boosted Logistic Reg"
      ]
    },
    {
      "cell_type": "code",
      "metadata": {
        "id": "o2zmqx55eLSU"
      },
      "source": [
        "from sklearn.model_selection import GridSearchCV"
      ],
      "execution_count": null,
      "outputs": []
    },
    {
      "cell_type": "code",
      "metadata": {
        "id": "au0PuYh5dufV"
      },
      "source": [
        "grid={\"C\":np.logspace(-3,3,7), \"penalty\":[\"l1\",\"l2\"]}# l1 lasso l2 ridge\n",
        "logreg=LogisticRegression()\n",
        "logreg_cv=GridSearchCV(logreg,grid,cv=10)"
      ],
      "execution_count": null,
      "outputs": []
    },
    {
      "cell_type": "code",
      "metadata": {
        "colab": {
          "base_uri": "https://localhost:8080/"
        },
        "id": "c2VNf0cIdxx_",
        "outputId": "8c594b74-613e-4094-a039-acca1de998d2"
      },
      "source": [
        "logreg_cv.fit(tX_train ,ty_train)"
      ],
      "execution_count": null,
      "outputs": [
        {
          "output_type": "execute_result",
          "data": {
            "text/plain": [
              "GridSearchCV(cv=10, estimator=LogisticRegression(),\n",
              "             param_grid={'C': array([1.e-03, 1.e-02, 1.e-01, 1.e+00, 1.e+01, 1.e+02, 1.e+03]),\n",
              "                         'penalty': ['l1', 'l2']})"
            ]
          },
          "metadata": {},
          "execution_count": 106
        }
      ]
    },
    {
      "cell_type": "code",
      "metadata": {
        "colab": {
          "base_uri": "https://localhost:8080/"
        },
        "id": "cjWkYxMFegd6",
        "outputId": "69b8fe2b-4733-4fc0-f39d-9966376c4dd1"
      },
      "source": [
        "log_pred = logreg_cv.predict(tX_test)\n",
        "#Metrics\n",
        "# print(confusion_matrix(y_test, y_pred))\n",
        "print(accuracy_score(ty_test, log_pred))\n",
        "print(classification_report(ty_test, log_pred))\n",
        "# pd.crosstab(y_test,y_pred)"
      ],
      "execution_count": null,
      "outputs": [
        {
          "output_type": "stream",
          "name": "stdout",
          "text": [
            "0.7113358617783396\n",
            "              precision    recall  f1-score   support\n",
            "\n",
            "          -1       0.67      0.40      0.50       401\n",
            "           0       0.52      0.42      0.47       666\n",
            "           1       0.74      0.84      0.79      2598\n",
            "           2       0.73      0.69      0.71      1081\n",
            "\n",
            "    accuracy                           0.71      4746\n",
            "   macro avg       0.67      0.59      0.62      4746\n",
            "weighted avg       0.70      0.71      0.70      4746\n",
            "\n"
          ]
        }
      ]
    },
    {
      "cell_type": "markdown",
      "metadata": {
        "id": "ulOh0Eu6f7Nu"
      },
      "source": [
        "#3.0 RandomForest"
      ]
    },
    {
      "cell_type": "markdown",
      "metadata": {
        "id": "pGKWe37sgq10"
      },
      "source": [
        "###Bag of Words"
      ]
    },
    {
      "cell_type": "code",
      "metadata": {
        "id": "zlCEi1_ygJFS"
      },
      "source": [
        "from sklearn.ensemble import RandomForestClassifier"
      ],
      "execution_count": null,
      "outputs": []
    },
    {
      "cell_type": "code",
      "metadata": {
        "id": "u4lPXSVof-QW"
      },
      "source": [
        "rf = RandomForestClassifier(n_estimators=400, random_state=11).fit(X_train, y_train) \n",
        "prediction = rf.predict(X_test)"
      ],
      "execution_count": null,
      "outputs": []
    },
    {
      "cell_type": "code",
      "metadata": {
        "colab": {
          "base_uri": "https://localhost:8080/"
        },
        "id": "LtPDSHz9f-LX",
        "outputId": "d0a34387-e212-4aff-b13e-ee028da1f2fc"
      },
      "source": [
        "#Metrics\n",
        "print(accuracy_score(y_test, prediction))\n",
        "print(classification_report(y_test, prediction))"
      ],
      "execution_count": null,
      "outputs": [
        {
          "output_type": "stream",
          "name": "stdout",
          "text": [
            "0.5745891276864729\n",
            "              precision    recall  f1-score   support\n",
            "\n",
            "          -1       0.43      0.02      0.05       401\n",
            "           0       0.39      0.11      0.17       666\n",
            "           1       0.60      0.85      0.70      2598\n",
            "           2       0.50      0.42      0.46      1081\n",
            "\n",
            "    accuracy                           0.57      4746\n",
            "   macro avg       0.48      0.35      0.34      4746\n",
            "weighted avg       0.54      0.57      0.52      4746\n",
            "\n"
          ]
        }
      ]
    },
    {
      "cell_type": "markdown",
      "metadata": {
        "id": "CmUbjVjPgulV"
      },
      "source": [
        "###TF-IDF Features"
      ]
    },
    {
      "cell_type": "code",
      "metadata": {
        "id": "jDS82PqFf-FC"
      },
      "source": [
        "rf = RandomForestClassifier(n_estimators=400, random_state=11).fit(tX_train, ty_train) \n",
        "prediction = rf.predict(tX_test)"
      ],
      "execution_count": null,
      "outputs": []
    },
    {
      "cell_type": "code",
      "metadata": {
        "colab": {
          "base_uri": "https://localhost:8080/"
        },
        "id": "i4c9iUoxf9-2",
        "outputId": "5c0cae10-c03c-43c2-b17c-c586a9783675"
      },
      "source": [
        "#Metrics\n",
        "print(accuracy_score(ty_test, prediction))\n",
        "print(classification_report(ty_test, prediction))"
      ],
      "execution_count": null,
      "outputs": [
        {
          "output_type": "stream",
          "name": "stdout",
          "text": [
            "0.5745891276864729\n",
            "              precision    recall  f1-score   support\n",
            "\n",
            "          -1       0.43      0.02      0.05       401\n",
            "           0       0.39      0.11      0.17       666\n",
            "           1       0.60      0.85      0.70      2598\n",
            "           2       0.50      0.42      0.46      1081\n",
            "\n",
            "    accuracy                           0.57      4746\n",
            "   macro avg       0.48      0.35      0.34      4746\n",
            "weighted avg       0.54      0.57      0.52      4746\n",
            "\n"
          ]
        }
      ]
    },
    {
      "cell_type": "markdown",
      "metadata": {
        "id": "nPynIDQZhJDM"
      },
      "source": [
        "###Word2Vec Features"
      ]
    },
    {
      "cell_type": "code",
      "metadata": {
        "id": "-9nQUDOlf95Z"
      },
      "source": [
        "rf = RandomForestClassifier(n_estimators=400, random_state=11).fit(wX_train, wy_train) \n",
        "prediction = rf.predict(wX_test)"
      ],
      "execution_count": null,
      "outputs": []
    },
    {
      "cell_type": "code",
      "metadata": {
        "colab": {
          "base_uri": "https://localhost:8080/"
        },
        "id": "kP8LCnM8f9zm",
        "outputId": "f63e9c3f-775d-448e-9fa1-7d821efb4550"
      },
      "source": [
        "#Metrics\n",
        "print(accuracy_score(wy_test, prediction))\n",
        "print(classification_report(wy_test, prediction))"
      ],
      "execution_count": null,
      "outputs": [
        {
          "output_type": "stream",
          "name": "stdout",
          "text": [
            "0.5474083438685209\n",
            "              precision    recall  f1-score   support\n",
            "\n",
            "          -1       0.00      0.00      0.00       401\n",
            "           0       0.00      0.00      0.00       666\n",
            "           1       0.55      1.00      0.71      2598\n",
            "           2       0.00      0.00      0.00      1081\n",
            "\n",
            "    accuracy                           0.55      4746\n",
            "   macro avg       0.14      0.25      0.18      4746\n",
            "weighted avg       0.30      0.55      0.39      4746\n",
            "\n"
          ]
        }
      ]
    },
    {
      "cell_type": "markdown",
      "metadata": {
        "id": "DK7CUW8nhY_D"
      },
      "source": [
        "###Doc2Vec Features"
      ]
    },
    {
      "cell_type": "code",
      "metadata": {
        "id": "UwMzBuZlf9qi"
      },
      "source": [
        "rf = RandomForestClassifier(n_estimators=400, random_state=11).fit(dX_train, dy_train) \n",
        "prediction = rf.predict(dX_test)"
      ],
      "execution_count": null,
      "outputs": []
    },
    {
      "cell_type": "code",
      "metadata": {
        "colab": {
          "base_uri": "https://localhost:8080/"
        },
        "id": "RiXyrUqQf9jU",
        "outputId": "be760987-5f12-4e04-a0db-dfb0c08e8b8d"
      },
      "source": [
        "#Metrics\n",
        "print(accuracy_score(dy_test, prediction))\n",
        "print(classification_report(dy_test, prediction))"
      ],
      "execution_count": null,
      "outputs": [
        {
          "output_type": "stream",
          "name": "stdout",
          "text": [
            "0.5745891276864729\n",
            "              precision    recall  f1-score   support\n",
            "\n",
            "          -1       0.75      0.01      0.01       401\n",
            "           0       0.56      0.02      0.04       666\n",
            "           1       0.58      0.91      0.71      2598\n",
            "           2       0.53      0.32      0.40      1081\n",
            "\n",
            "    accuracy                           0.57      4746\n",
            "   macro avg       0.61      0.32      0.29      4746\n",
            "weighted avg       0.58      0.57      0.49      4746\n",
            "\n"
          ]
        }
      ]
    },
    {
      "cell_type": "markdown",
      "metadata": {
        "id": "UugL8nM8X93W"
      },
      "source": [
        "##5.XGBoost\n"
      ]
    },
    {
      "cell_type": "code",
      "metadata": {
        "id": "vpgAh6u1Uulu"
      },
      "source": [
        "from xgboost import XGBClassifier"
      ],
      "execution_count": 57,
      "outputs": []
    },
    {
      "cell_type": "markdown",
      "metadata": {
        "id": "13bObA1dYIvo"
      },
      "source": [
        "###Bag of Words Features"
      ]
    },
    {
      "cell_type": "code",
      "metadata": {
        "id": "SEbOloy1jPqb",
        "colab": {
          "base_uri": "https://localhost:8080/"
        },
        "outputId": "a1e6d24d-1deb-423f-f42b-080722477778"
      },
      "source": [
        "# training the model \n",
        "b_xgb_model = XGBClassifier(max_depth=6, n_estimators=1000)\n",
        "b_xgb_model.fit(X_train, y_train)\n"
      ],
      "execution_count": 140,
      "outputs": [
        {
          "output_type": "execute_result",
          "data": {
            "text/plain": [
              "XGBClassifier(max_depth=6, n_estimators=1000, objective='multi:softprob')"
            ]
          },
          "metadata": {},
          "execution_count": 140
        }
      ]
    },
    {
      "cell_type": "code",
      "metadata": {
        "colab": {
          "base_uri": "https://localhost:8080/"
        },
        "id": "-iBz2ZaojWhT",
        "outputId": "bd2c0130-e706-4f27-f37e-baa3b96d6e28"
      },
      "source": [
        "pred_y = b_xgb_model.predict(X_test) #Prediction of Test set\n",
        "pred_y_train = b_xgb_model.predict(X_train) #Prediction of Train set\n",
        "#Metrics\n",
        "print('Train Accuracy', accuracy_score(y_train, pred_y_train))\n",
        "print('Test Accuracy', accuracy_score(y_test, pred_y))\n",
        "print('Classification Report', classification_report(y_test, pred_y))"
      ],
      "execution_count": 141,
      "outputs": [
        {
          "output_type": "stream",
          "name": "stdout",
          "text": [
            "Train Accuracy 0.8272926500337154\n",
            "Test Accuracy 0.7041719342604298\n",
            "Classification Report               precision    recall  f1-score   support\n",
            "\n",
            "          -1       0.75      0.38      0.51       325\n",
            "           0       0.59      0.35      0.44       590\n",
            "           1       0.71      0.88      0.78      2137\n",
            "           2       0.74      0.63      0.68       903\n",
            "\n",
            "    accuracy                           0.70      3955\n",
            "   macro avg       0.70      0.56      0.60      3955\n",
            "weighted avg       0.70      0.70      0.69      3955\n",
            "\n"
          ]
        }
      ]
    },
    {
      "cell_type": "markdown",
      "metadata": {
        "id": "Tu6FA2n2jOOr"
      },
      "source": [
        "###TF-IDF Features\n",
        "\n"
      ]
    },
    {
      "cell_type": "code",
      "metadata": {
        "id": "2P44mUnYTTBf",
        "colab": {
          "base_uri": "https://localhost:8080/",
          "height": 345
        },
        "outputId": "7d4bfe9d-3bfd-4066-fe6b-0507a44a9e28"
      },
      "source": [
        "# training the model \n",
        "tf_xgb_model = XGBClassifier(max_depth=100, n_estimators=1000)\n",
        "tf_xgb_model.fit(tX_train, ty_train)"
      ],
      "execution_count": 172,
      "outputs": [
        {
          "output_type": "error",
          "ename": "KeyboardInterrupt",
          "evalue": "ignored",
          "traceback": [
            "\u001b[0;31m---------------------------------------------------------------------------\u001b[0m",
            "\u001b[0;31mKeyboardInterrupt\u001b[0m                         Traceback (most recent call last)",
            "\u001b[0;32m<ipython-input-172-0891e775199f>\u001b[0m in \u001b[0;36m<module>\u001b[0;34m()\u001b[0m\n\u001b[1;32m      1\u001b[0m \u001b[0;31m# training the model\u001b[0m\u001b[0;34m\u001b[0m\u001b[0;34m\u001b[0m\u001b[0;34m\u001b[0m\u001b[0m\n\u001b[1;32m      2\u001b[0m \u001b[0mtf_xgb_model\u001b[0m \u001b[0;34m=\u001b[0m \u001b[0mXGBClassifier\u001b[0m\u001b[0;34m(\u001b[0m\u001b[0mmax_depth\u001b[0m\u001b[0;34m=\u001b[0m\u001b[0;36m100\u001b[0m\u001b[0;34m,\u001b[0m \u001b[0mn_estimators\u001b[0m\u001b[0;34m=\u001b[0m\u001b[0;36m1000\u001b[0m\u001b[0;34m)\u001b[0m\u001b[0;34m\u001b[0m\u001b[0;34m\u001b[0m\u001b[0m\n\u001b[0;32m----> 3\u001b[0;31m \u001b[0mtf_xgb_model\u001b[0m\u001b[0;34m.\u001b[0m\u001b[0mfit\u001b[0m\u001b[0;34m(\u001b[0m\u001b[0mtX_train\u001b[0m\u001b[0;34m,\u001b[0m \u001b[0mty_train\u001b[0m\u001b[0;34m)\u001b[0m\u001b[0;34m\u001b[0m\u001b[0;34m\u001b[0m\u001b[0m\n\u001b[0m",
            "\u001b[0;32m/usr/local/lib/python3.7/dist-packages/xgboost/sklearn.py\u001b[0m in \u001b[0;36mfit\u001b[0;34m(self, X, y, sample_weight, eval_set, eval_metric, early_stopping_rounds, verbose, xgb_model, sample_weight_eval_set, callbacks)\u001b[0m\n\u001b[1;32m    730\u001b[0m                               \u001b[0mevals_result\u001b[0m\u001b[0;34m=\u001b[0m\u001b[0mevals_result\u001b[0m\u001b[0;34m,\u001b[0m \u001b[0mobj\u001b[0m\u001b[0;34m=\u001b[0m\u001b[0mobj\u001b[0m\u001b[0;34m,\u001b[0m \u001b[0mfeval\u001b[0m\u001b[0;34m=\u001b[0m\u001b[0mfeval\u001b[0m\u001b[0;34m,\u001b[0m\u001b[0;34m\u001b[0m\u001b[0;34m\u001b[0m\u001b[0m\n\u001b[1;32m    731\u001b[0m                               \u001b[0mverbose_eval\u001b[0m\u001b[0;34m=\u001b[0m\u001b[0mverbose\u001b[0m\u001b[0;34m,\u001b[0m \u001b[0mxgb_model\u001b[0m\u001b[0;34m=\u001b[0m\u001b[0mxgb_model\u001b[0m\u001b[0;34m,\u001b[0m\u001b[0;34m\u001b[0m\u001b[0;34m\u001b[0m\u001b[0m\n\u001b[0;32m--> 732\u001b[0;31m                               callbacks=callbacks)\n\u001b[0m\u001b[1;32m    733\u001b[0m \u001b[0;34m\u001b[0m\u001b[0m\n\u001b[1;32m    734\u001b[0m         \u001b[0mself\u001b[0m\u001b[0;34m.\u001b[0m\u001b[0mobjective\u001b[0m \u001b[0;34m=\u001b[0m \u001b[0mxgb_options\u001b[0m\u001b[0;34m[\u001b[0m\u001b[0;34m\"objective\"\u001b[0m\u001b[0;34m]\u001b[0m\u001b[0;34m\u001b[0m\u001b[0;34m\u001b[0m\u001b[0m\n",
            "\u001b[0;32m/usr/local/lib/python3.7/dist-packages/xgboost/training.py\u001b[0m in \u001b[0;36mtrain\u001b[0;34m(params, dtrain, num_boost_round, evals, obj, feval, maximize, early_stopping_rounds, evals_result, verbose_eval, xgb_model, callbacks, learning_rates)\u001b[0m\n\u001b[1;32m    214\u001b[0m                            \u001b[0mevals\u001b[0m\u001b[0;34m=\u001b[0m\u001b[0mevals\u001b[0m\u001b[0;34m,\u001b[0m\u001b[0;34m\u001b[0m\u001b[0;34m\u001b[0m\u001b[0m\n\u001b[1;32m    215\u001b[0m                            \u001b[0mobj\u001b[0m\u001b[0;34m=\u001b[0m\u001b[0mobj\u001b[0m\u001b[0;34m,\u001b[0m \u001b[0mfeval\u001b[0m\u001b[0;34m=\u001b[0m\u001b[0mfeval\u001b[0m\u001b[0;34m,\u001b[0m\u001b[0;34m\u001b[0m\u001b[0;34m\u001b[0m\u001b[0m\n\u001b[0;32m--> 216\u001b[0;31m                            xgb_model=xgb_model, callbacks=callbacks)\n\u001b[0m\u001b[1;32m    217\u001b[0m \u001b[0;34m\u001b[0m\u001b[0m\n\u001b[1;32m    218\u001b[0m \u001b[0;34m\u001b[0m\u001b[0m\n",
            "\u001b[0;32m/usr/local/lib/python3.7/dist-packages/xgboost/training.py\u001b[0m in \u001b[0;36m_train_internal\u001b[0;34m(params, dtrain, num_boost_round, evals, obj, feval, xgb_model, callbacks)\u001b[0m\n\u001b[1;32m     72\u001b[0m         \u001b[0;31m# Skip the first update if it is a recovery step.\u001b[0m\u001b[0;34m\u001b[0m\u001b[0;34m\u001b[0m\u001b[0;34m\u001b[0m\u001b[0m\n\u001b[1;32m     73\u001b[0m         \u001b[0;32mif\u001b[0m \u001b[0mversion\u001b[0m \u001b[0;34m%\u001b[0m \u001b[0;36m2\u001b[0m \u001b[0;34m==\u001b[0m \u001b[0;36m0\u001b[0m\u001b[0;34m:\u001b[0m\u001b[0;34m\u001b[0m\u001b[0;34m\u001b[0m\u001b[0m\n\u001b[0;32m---> 74\u001b[0;31m             \u001b[0mbst\u001b[0m\u001b[0;34m.\u001b[0m\u001b[0mupdate\u001b[0m\u001b[0;34m(\u001b[0m\u001b[0mdtrain\u001b[0m\u001b[0;34m,\u001b[0m \u001b[0mi\u001b[0m\u001b[0;34m,\u001b[0m \u001b[0mobj\u001b[0m\u001b[0;34m)\u001b[0m\u001b[0;34m\u001b[0m\u001b[0;34m\u001b[0m\u001b[0m\n\u001b[0m\u001b[1;32m     75\u001b[0m             \u001b[0mbst\u001b[0m\u001b[0;34m.\u001b[0m\u001b[0msave_rabit_checkpoint\u001b[0m\u001b[0;34m(\u001b[0m\u001b[0;34m)\u001b[0m\u001b[0;34m\u001b[0m\u001b[0;34m\u001b[0m\u001b[0m\n\u001b[1;32m     76\u001b[0m             \u001b[0mversion\u001b[0m \u001b[0;34m+=\u001b[0m \u001b[0;36m1\u001b[0m\u001b[0;34m\u001b[0m\u001b[0;34m\u001b[0m\u001b[0m\n",
            "\u001b[0;32m/usr/local/lib/python3.7/dist-packages/xgboost/core.py\u001b[0m in \u001b[0;36mupdate\u001b[0;34m(self, dtrain, iteration, fobj)\u001b[0m\n\u001b[1;32m   1107\u001b[0m         \u001b[0;32mif\u001b[0m \u001b[0mfobj\u001b[0m \u001b[0;32mis\u001b[0m \u001b[0;32mNone\u001b[0m\u001b[0;34m:\u001b[0m\u001b[0;34m\u001b[0m\u001b[0;34m\u001b[0m\u001b[0m\n\u001b[1;32m   1108\u001b[0m             _check_call(_LIB.XGBoosterUpdateOneIter(self.handle, ctypes.c_int(iteration),\n\u001b[0;32m-> 1109\u001b[0;31m                                                     dtrain.handle))\n\u001b[0m\u001b[1;32m   1110\u001b[0m         \u001b[0;32melse\u001b[0m\u001b[0;34m:\u001b[0m\u001b[0;34m\u001b[0m\u001b[0;34m\u001b[0m\u001b[0m\n\u001b[1;32m   1111\u001b[0m             \u001b[0mpred\u001b[0m \u001b[0;34m=\u001b[0m \u001b[0mself\u001b[0m\u001b[0;34m.\u001b[0m\u001b[0mpredict\u001b[0m\u001b[0;34m(\u001b[0m\u001b[0mdtrain\u001b[0m\u001b[0;34m)\u001b[0m\u001b[0;34m\u001b[0m\u001b[0;34m\u001b[0m\u001b[0m\n",
            "\u001b[0;31mKeyboardInterrupt\u001b[0m: "
          ]
        }
      ]
    },
    {
      "cell_type": "code",
      "metadata": {
        "id": "E9UrunE4iXH8"
      },
      "source": [
        "pred_y = tf_xgb_model.predict(tX_test) #Prediction of Test set\n",
        "pred_y_train = tf_xgb_model.predict(tX_train) #Prediction of Train set\n",
        "#Metrics\n",
        "print('Train Accuracy', accuracy_score(ty_train, pred_y_train))\n",
        "print('Test Accuracy', accuracy_score(ty_test, pred_y))\n",
        "print('Classification Report', classification_report(ty_test, pred_y))"
      ],
      "execution_count": null,
      "outputs": []
    },
    {
      "cell_type": "markdown",
      "metadata": {
        "id": "y7qYkW7NjlEM"
      },
      "source": [
        "###Word2Vec Features"
      ]
    },
    {
      "cell_type": "code",
      "metadata": {
        "id": "Mlauu093jktI",
        "colab": {
          "base_uri": "https://localhost:8080/"
        },
        "outputId": "8b47b9ad-eaf2-4947-c923-002a0cbc30de"
      },
      "source": [
        "# training the model \n",
        "xgb = XGBClassifier()\n",
        "xgb.fit(wX_train, wy_train) "
      ],
      "execution_count": 162,
      "outputs": [
        {
          "output_type": "execute_result",
          "data": {
            "text/plain": [
              "XGBClassifier(objective='multi:softprob')"
            ]
          },
          "metadata": {},
          "execution_count": 162
        }
      ]
    },
    {
      "cell_type": "code",
      "metadata": {
        "colab": {
          "base_uri": "https://localhost:8080/"
        },
        "id": "EAuP3Fovjko9",
        "outputId": "57424061-a85f-44f8-9a6b-81e5776cfe7e"
      },
      "source": [
        "pred_y = xgb.predict(wX_test) #Prediction of Test set\n",
        "pred_y_train = xgb.predict(wX_train) #Prediction of Train set\n",
        "#Metrics\n",
        "print('Train Accuracy', accuracy_score(wy_train, pred_y_train))\n",
        "print('Test Accuracy', accuracy_score(wy_test, pred_y))\n",
        "print('Classification Report', classification_report(wy_test, pred_y))"
      ],
      "execution_count": 163,
      "outputs": [
        {
          "output_type": "stream",
          "name": "stdout",
          "text": [
            "Train Accuracy 0.5353615171868826\n",
            "Test Accuracy 0.554677623261694\n",
            "Classification Report               precision    recall  f1-score   support\n",
            "\n",
            "          -1       0.00      0.00      0.00       278\n",
            "           0       0.00      0.00      0.00       425\n",
            "           1       0.55      1.00      0.71      1755\n",
            "           2       0.00      0.00      0.00       706\n",
            "\n",
            "    accuracy                           0.55      3164\n",
            "   macro avg       0.14      0.25      0.18      3164\n",
            "weighted avg       0.31      0.55      0.40      3164\n",
            "\n"
          ]
        }
      ]
    },
    {
      "cell_type": "markdown",
      "metadata": {
        "id": "KzY7hnSwjwrs"
      },
      "source": [
        "###Doc2Vec Features"
      ]
    },
    {
      "cell_type": "code",
      "metadata": {
        "id": "1rsYqdR9jklB"
      },
      "source": [
        "# # training the model \n",
        "# xgb_model = XGBClassifier(max_depth=6, n_estimators=1000)\n",
        "# xgb_model.fit(dX_train, dy_train)\n",
        "# prediction = xgb_model.predict(dX_test)"
      ],
      "execution_count": 72,
      "outputs": []
    },
    {
      "cell_type": "code",
      "metadata": {
        "colab": {
          "base_uri": "https://localhost:8080/"
        },
        "id": "USdwMxZCjkg1",
        "outputId": "d3a0916b-652c-4d96-887d-d583e014b945"
      },
      "source": [
        "#Metrics\n",
        "print(accuracy_score(dy_test, prediction))\n",
        "print(classification_report(dy_test, prediction))"
      ],
      "execution_count": null,
      "outputs": [
        {
          "output_type": "stream",
          "name": "stdout",
          "text": [
            "0.7026970080067425\n",
            "              precision    recall  f1-score   support\n",
            "\n",
            "          -1       0.70      0.37      0.49       401\n",
            "           0       0.58      0.38      0.46       666\n",
            "           1       0.71      0.87      0.78      2598\n",
            "           2       0.72      0.63      0.67      1081\n",
            "\n",
            "    accuracy                           0.70      4746\n",
            "   macro avg       0.68      0.56      0.60      4746\n",
            "weighted avg       0.70      0.70      0.69      4746\n",
            "\n"
          ]
        }
      ]
    },
    {
      "cell_type": "markdown",
      "metadata": {
        "id": "SVCOz1NuMeyG"
      },
      "source": [
        "#Tuning XBBOOST"
      ]
    },
    {
      "cell_type": "code",
      "metadata": {
        "id": "IRcCR5GhoUPU"
      },
      "source": [
        "colsample_bytree = [0.3, 0.5, 1.0]\n",
        "gamma = [0.1, 1, 1.5]\n",
        "learning_rate = [0.001, 0.01]\n",
        "min_child_weight = [1, 5, 10]\n",
        "scale_pos_weight = [1, 2, 4]\n",
        "subsample = [0.8, 0.9, 1.0]\n",
        "n_estimators = [50, 100, 150]\n",
        "max_depth = [5, 100]\n",
        "\n",
        "param_grid = dict(\n",
        "    colsample_bytree=colsample_bytree,\n",
        "    gamma=gamma,\n",
        "    learning_rate=learning_rate,\n",
        "    min_child_weight=min_child_weight,\n",
        "    scale_pos_weight=scale_pos_weight,\n",
        "    subsample=subsample,\n",
        "    n_estimators=n_estimators,\n",
        "    max_depth=max_depth,\n",
        ")"
      ],
      "execution_count": 178,
      "outputs": []
    },
    {
      "cell_type": "code",
      "metadata": {
        "id": "GsxVIZ7GO0DB"
      },
      "source": [
        "model = XGBClassifier(random_state=1, verbosity=1)\n",
        "\n",
        "grid_search = GridSearchCV(estimator=model,\n",
        "                           param_grid=param_grid,\n",
        "                           scoring='roc_auc',\n",
        "                           )\n",
        "best_model = grid_search.fit(X_train, y_train)\n",
        "print('Optimum parameters', best_model.best_params_)"
      ],
      "execution_count": null,
      "outputs": []
    },
    {
      "cell_type": "code",
      "metadata": {
        "id": "bkR7v8ZbX-sT"
      },
      "source": [
        "tuned_model = XGBClassifier(random_state=1, \n",
        "                            colsample_bytree=0.3, \n",
        "                            gamma=1, \n",
        "                            learning_rate=0.01, \n",
        "                            max_depth=5, \n",
        "                            min_child_weight=1,\n",
        "                            n_estimators=100,\n",
        "                            scale_pos_weight=2, \n",
        "                            subsample=0.9)\n",
        "cv = RepeatedStratifiedKFold(n_splits=10, n_repeats=3, random_state=1)\n",
        "scores = cross_val_score(tuned_model, X_train, y_train, scoring='roc_auc', cv=cv, n_jobs=-1)\n",
        "print('Mean ROC/AUC = ', scores.mean())"
      ],
      "execution_count": null,
      "outputs": []
    },
    {
      "cell_type": "markdown",
      "metadata": {
        "id": "AYNLLOv-J4eT"
      },
      "source": [
        "# 6. Multinomial Naive Bayes Classifier"
      ]
    },
    {
      "cell_type": "markdown",
      "metadata": {
        "id": "G91KC5DHKEAW"
      },
      "source": [
        "####Bag of Words Features"
      ]
    },
    {
      "cell_type": "code",
      "metadata": {
        "id": "5uO8Lkhgk5pP",
        "colab": {
          "base_uri": "https://localhost:8080/"
        },
        "outputId": "6b10a182-6eea-4718-ef43-2af8543d911e"
      },
      "source": [
        "# Import MultinomialNB\n",
        "from sklearn.naive_bayes import MultinomialNB\n",
        "#Create MultinomialNB object\n",
        "clf = MultinomialNB(alpha=0.6)\n",
        "# Train clf\n",
        "clf.fit(X_train, y_train)"
      ],
      "execution_count": 165,
      "outputs": [
        {
          "output_type": "execute_result",
          "data": {
            "text/plain": [
              "MultinomialNB(alpha=0.6)"
            ]
          },
          "metadata": {},
          "execution_count": 165
        }
      ]
    },
    {
      "cell_type": "code",
      "metadata": {
        "colab": {
          "base_uri": "https://localhost:8080/"
        },
        "id": "DV05JyrBV26E",
        "outputId": "a0667bd7-7811-431c-e39b-acc47d45187a"
      },
      "source": [
        "pred_y = clf.predict(X_test) #Prediction of Test set\n",
        "pred_y_train = clf.predict(X_train) #Prediction of Train set\n",
        "#Metrics\n",
        "print('Train Accuracy', accuracy_score(y_train, pred_y_train))\n",
        "print('Test Accuracy', accuracy_score(y_test, pred_y))\n",
        "print('Classification Report', classification_report(y_test, pred_y))"
      ],
      "execution_count": 166,
      "outputs": [
        {
          "output_type": "stream",
          "name": "stdout",
          "text": [
            "Train Accuracy 0.8331085637221848\n",
            "Test Accuracy 0.7008849557522124\n",
            "Classification Report               precision    recall  f1-score   support\n",
            "\n",
            "          -1       0.61      0.44      0.51       325\n",
            "           0       0.52      0.45      0.48       590\n",
            "           1       0.76      0.80      0.78      2137\n",
            "           2       0.68      0.73      0.71       903\n",
            "\n",
            "    accuracy                           0.70      3955\n",
            "   macro avg       0.64      0.60      0.62      3955\n",
            "weighted avg       0.69      0.70      0.70      3955\n",
            "\n"
          ]
        }
      ]
    },
    {
      "cell_type": "markdown",
      "metadata": {
        "id": "81BmmC3uQMVU"
      },
      "source": [
        "###TF-IDF Features"
      ]
    },
    {
      "cell_type": "code",
      "metadata": {
        "id": "lIdGvPg8k5dv"
      },
      "source": [
        "tf_clf = MultinomialNB(alpha=0.6).fit(tX_train, ty_train)\n",
        "# Compute Prediction\n",
        "prediction = tf_clf.predict(tX_test)"
      ],
      "execution_count": 168,
      "outputs": []
    },
    {
      "cell_type": "code",
      "metadata": {
        "colab": {
          "base_uri": "https://localhost:8080/"
        },
        "id": "jwxkttrZWbOK",
        "outputId": "1c220aec-9109-472a-a604-eaae5e3eb907"
      },
      "source": [
        "pred_y = tf_clf.predict(tX_test) #Prediction of Test set\n",
        "pred_y_train = tf_clf.predict(tX_train) #Prediction of Train set\n",
        "#Metrics\n",
        "print('Train Accuracy', accuracy_score(ty_train, pred_y_train))\n",
        "print('Test Accuracy', accuracy_score(ty_test, pred_y))\n",
        "print('Classification Report', classification_report(ty_test, pred_y))"
      ],
      "execution_count": 169,
      "outputs": [
        {
          "output_type": "stream",
          "name": "stdout",
          "text": [
            "Train Accuracy 0.7632556301856973\n",
            "Test Accuracy 0.6690897597977244\n",
            "Classification Report               precision    recall  f1-score   support\n",
            "\n",
            "          -1       0.92      0.13      0.24       267\n",
            "           0       0.68      0.15      0.24       465\n",
            "           1       0.65      0.94      0.76      1711\n",
            "           2       0.76      0.56      0.65       721\n",
            "\n",
            "    accuracy                           0.67      3164\n",
            "   macro avg       0.75      0.45      0.47      3164\n",
            "weighted avg       0.70      0.67      0.62      3164\n",
            "\n"
          ]
        }
      ]
    },
    {
      "cell_type": "markdown",
      "metadata": {
        "id": "H0lUGUMpQc5X"
      },
      "source": [
        "###Word2Vec Features"
      ]
    },
    {
      "cell_type": "code",
      "metadata": {
        "id": "JLvY8ZybWRAF"
      },
      "source": [
        "w_clf = MultinomialNB(alpha=0.6).fit(wX_train, wy_train)\n",
        "# Compute Prediction\n",
        "prediction = w_clf.predict(wX_test)"
      ],
      "execution_count": 170,
      "outputs": []
    },
    {
      "cell_type": "code",
      "metadata": {
        "colab": {
          "base_uri": "https://localhost:8080/"
        },
        "id": "1_bF5xWZWn_7",
        "outputId": "a1f09986-8fa6-4ad2-99e5-7b4bdc9191ff"
      },
      "source": [
        "pred_y = w_clf.predict(wX_test) #Prediction of Test set\n",
        "pred_y_train = w_clf.predict(wX_train) #Prediction of Train set\n",
        "#Metrics\n",
        "print('Train Accuracy', accuracy_score(wy_train, pred_y_train))\n",
        "print('Test Accuracy', accuracy_score(wy_test, pred_y))\n",
        "print('Classification Report', classification_report(wy_test, pred_y))"
      ],
      "execution_count": 171,
      "outputs": [
        {
          "output_type": "stream",
          "name": "stdout",
          "text": [
            "Train Accuracy 0.5353615171868826\n",
            "Test Accuracy 0.554677623261694\n",
            "Classification Report               precision    recall  f1-score   support\n",
            "\n",
            "          -1       0.00      0.00      0.00       278\n",
            "           0       0.00      0.00      0.00       425\n",
            "           1       0.55      1.00      0.71      1755\n",
            "           2       0.00      0.00      0.00       706\n",
            "\n",
            "    accuracy                           0.55      3164\n",
            "   macro avg       0.14      0.25      0.18      3164\n",
            "weighted avg       0.31      0.55      0.40      3164\n",
            "\n"
          ]
        }
      ]
    },
    {
      "cell_type": "code",
      "metadata": {
        "id": "cSqLEfBkkBhk"
      },
      "source": [
        ""
      ],
      "execution_count": null,
      "outputs": []
    },
    {
      "cell_type": "markdown",
      "metadata": {
        "id": "72TZWqchj6OT"
      },
      "source": [
        "#To predict the test data for kaggle submission.\n"
      ]
    },
    {
      "cell_type": "code",
      "metadata": {
        "id": "tsPKAW_1YgR-"
      },
      "source": [
        "#To predict the test data for kaggle submission.\n",
        "# final_pred = xgb.predict(test_w2v)\n",
        "\n",
        "final_pred = logreg_cv.predict(test_tfidf)\n"
      ],
      "execution_count": null,
      "outputs": []
    },
    {
      "cell_type": "code",
      "metadata": {
        "id": "lK1WSzOVfLu6"
      },
      "source": [
        "#Save Model With Pickle\n",
        "import pickle\n",
        "\n",
        "model_save_path = \"xgb_model.pkl\" #SVM\n",
        "with open(model_save_path,'wb') as file:\n",
        "    pickle.dump(xgb,file)"
      ],
      "execution_count": null,
      "outputs": []
    },
    {
      "cell_type": "code",
      "metadata": {
        "id": "yra2GkaPfRlV"
      },
      "source": [
        "#Open Model With Pickle\n",
        "model_load_path = \"xgb_model.pkl\"\n",
        "with open(model_load_path,'rb') as file:\n",
        "    unpickled_model = pickle.load(file)"
      ],
      "execution_count": null,
      "outputs": []
    },
    {
      "cell_type": "code",
      "metadata": {
        "id": "rsCFX6whfWhX"
      },
      "source": [
        "# get predictions from unpickled model\n",
        "xgb_pred = unpickled_model.predict(wX_test)"
      ],
      "execution_count": null,
      "outputs": []
    },
    {
      "cell_type": "code",
      "metadata": {
        "id": "Sv_NwoCEgBdp"
      },
      "source": [
        ""
      ],
      "execution_count": null,
      "outputs": []
    },
    {
      "cell_type": "code",
      "metadata": {
        "id": "BDEuUE-PgBaJ"
      },
      "source": [
        ""
      ],
      "execution_count": null,
      "outputs": []
    },
    {
      "cell_type": "code",
      "metadata": {
        "id": "EKP2EQtLgBU6"
      },
      "source": [
        ""
      ],
      "execution_count": null,
      "outputs": []
    },
    {
      "cell_type": "code",
      "metadata": {
        "id": "_2ea2KMGgBQA"
      },
      "source": [
        ""
      ],
      "execution_count": null,
      "outputs": []
    },
    {
      "cell_type": "code",
      "metadata": {
        "id": "FdeuemeJgBMH"
      },
      "source": [
        ""
      ],
      "execution_count": null,
      "outputs": []
    },
    {
      "cell_type": "code",
      "metadata": {
        "id": "otpi2rv9gBIw"
      },
      "source": [
        ""
      ],
      "execution_count": null,
      "outputs": []
    },
    {
      "cell_type": "code",
      "metadata": {
        "id": "3YzYvJrLgBEr"
      },
      "source": [
        ""
      ],
      "execution_count": null,
      "outputs": []
    },
    {
      "cell_type": "code",
      "metadata": {
        "id": "z8BQkTyNgA-3"
      },
      "source": [
        ""
      ],
      "execution_count": null,
      "outputs": []
    },
    {
      "cell_type": "code",
      "metadata": {
        "id": "oY72moGXgA3X"
      },
      "source": [
        ""
      ],
      "execution_count": null,
      "outputs": []
    },
    {
      "cell_type": "code",
      "metadata": {
        "id": "g7V5fLHNgAvO"
      },
      "source": [
        ""
      ],
      "execution_count": null,
      "outputs": []
    },
    {
      "cell_type": "code",
      "metadata": {
        "id": "sQeuzfFwgAmJ"
      },
      "source": [
        ""
      ],
      "execution_count": null,
      "outputs": []
    },
    {
      "cell_type": "markdown",
      "metadata": {
        "id": "zbZvPqnOf9vG"
      },
      "source": [
        "#File Submission"
      ]
    },
    {
      "cell_type": "code",
      "metadata": {
        "colab": {
          "base_uri": "https://localhost:8080/",
          "height": 206
        },
        "id": "GpowFxfsTq_M",
        "outputId": "92db1c60-4b53-46b9-f5e5-dfbbca5f480d"
      },
      "source": [
        "sub = pd.read_csv(url_sub)\n",
        "sub.head()"
      ],
      "execution_count": null,
      "outputs": [
        {
          "output_type": "execute_result",
          "data": {
            "text/html": [
              "<div>\n",
              "<style scoped>\n",
              "    .dataframe tbody tr th:only-of-type {\n",
              "        vertical-align: middle;\n",
              "    }\n",
              "\n",
              "    .dataframe tbody tr th {\n",
              "        vertical-align: top;\n",
              "    }\n",
              "\n",
              "    .dataframe thead th {\n",
              "        text-align: right;\n",
              "    }\n",
              "</style>\n",
              "<table border=\"1\" class=\"dataframe\">\n",
              "  <thead>\n",
              "    <tr style=\"text-align: right;\">\n",
              "      <th></th>\n",
              "      <th>tweetid</th>\n",
              "      <th>sentiment</th>\n",
              "    </tr>\n",
              "  </thead>\n",
              "  <tbody>\n",
              "    <tr>\n",
              "      <th>0</th>\n",
              "      <td>169760</td>\n",
              "      <td>1</td>\n",
              "    </tr>\n",
              "    <tr>\n",
              "      <th>1</th>\n",
              "      <td>35326</td>\n",
              "      <td>1</td>\n",
              "    </tr>\n",
              "    <tr>\n",
              "      <th>2</th>\n",
              "      <td>224985</td>\n",
              "      <td>1</td>\n",
              "    </tr>\n",
              "    <tr>\n",
              "      <th>3</th>\n",
              "      <td>476263</td>\n",
              "      <td>1</td>\n",
              "    </tr>\n",
              "    <tr>\n",
              "      <th>4</th>\n",
              "      <td>872928</td>\n",
              "      <td>1</td>\n",
              "    </tr>\n",
              "  </tbody>\n",
              "</table>\n",
              "</div>"
            ],
            "text/plain": [
              "   tweetid  sentiment\n",
              "0   169760          1\n",
              "1    35326          1\n",
              "2   224985          1\n",
              "3   476263          1\n",
              "4   872928          1"
            ]
          },
          "metadata": {},
          "execution_count": 149
        }
      ]
    },
    {
      "cell_type": "code",
      "metadata": {
        "colab": {
          "base_uri": "https://localhost:8080/",
          "height": 206
        },
        "id": "NnfH2YN2Rcvk",
        "outputId": "f8bff517-574c-4ee7-bceb-32d9e212add7"
      },
      "source": [
        "# Create a submisison dataframe and append the relevant columns\n",
        "submission = pd.DataFrame()\n",
        "submission['tweetid'] = test['tweetid']\n",
        "submission['sentiment'] = final_pred # our model predictions on the test dataset\n",
        "submission.head()"
      ],
      "execution_count": null,
      "outputs": [
        {
          "output_type": "execute_result",
          "data": {
            "text/html": [
              "<div>\n",
              "<style scoped>\n",
              "    .dataframe tbody tr th:only-of-type {\n",
              "        vertical-align: middle;\n",
              "    }\n",
              "\n",
              "    .dataframe tbody tr th {\n",
              "        vertical-align: top;\n",
              "    }\n",
              "\n",
              "    .dataframe thead th {\n",
              "        text-align: right;\n",
              "    }\n",
              "</style>\n",
              "<table border=\"1\" class=\"dataframe\">\n",
              "  <thead>\n",
              "    <tr style=\"text-align: right;\">\n",
              "      <th></th>\n",
              "      <th>tweetid</th>\n",
              "      <th>sentiment</th>\n",
              "    </tr>\n",
              "  </thead>\n",
              "  <tbody>\n",
              "    <tr>\n",
              "      <th>0</th>\n",
              "      <td>169760</td>\n",
              "      <td>1</td>\n",
              "    </tr>\n",
              "    <tr>\n",
              "      <th>1</th>\n",
              "      <td>35326</td>\n",
              "      <td>1</td>\n",
              "    </tr>\n",
              "    <tr>\n",
              "      <th>2</th>\n",
              "      <td>224985</td>\n",
              "      <td>1</td>\n",
              "    </tr>\n",
              "    <tr>\n",
              "      <th>3</th>\n",
              "      <td>476263</td>\n",
              "      <td>1</td>\n",
              "    </tr>\n",
              "    <tr>\n",
              "      <th>4</th>\n",
              "      <td>872928</td>\n",
              "      <td>0</td>\n",
              "    </tr>\n",
              "  </tbody>\n",
              "</table>\n",
              "</div>"
            ],
            "text/plain": [
              "   tweetid  sentiment\n",
              "0   169760          1\n",
              "1    35326          1\n",
              "2   224985          1\n",
              "3   476263          1\n",
              "4   872928          0"
            ]
          },
          "metadata": {},
          "execution_count": 153
        }
      ]
    },
    {
      "cell_type": "code",
      "metadata": {
        "colab": {
          "base_uri": "https://localhost:8080/"
        },
        "id": "wiehr85F46J0",
        "outputId": "19e7c1ff-2cd2-4727-baba-84fc6fdbee3b"
      },
      "source": [
        "# for Kaggle submisison\n",
        "submission.to_csv('climate_change.csv', index=False)\n",
        "print('Submission CSV is ready!')"
      ],
      "execution_count": null,
      "outputs": [
        {
          "output_type": "stream",
          "name": "stdout",
          "text": [
            "Submission CSV is ready!\n"
          ]
        }
      ]
    },
    {
      "cell_type": "code",
      "metadata": {
        "colab": {
          "base_uri": "https://localhost:8080/",
          "height": 206
        },
        "id": "x45uaFo57Ins",
        "outputId": "b34be6c7-3452-44da-832a-7a0c2467a854"
      },
      "source": [
        "# Check the submission csv to make sure it's in the right format\n",
        "submissions_check = pd.read_csv(\"climate_change.csv\")\n",
        "submissions_check.head()"
      ],
      "execution_count": null,
      "outputs": [
        {
          "output_type": "execute_result",
          "data": {
            "text/html": [
              "<div>\n",
              "<style scoped>\n",
              "    .dataframe tbody tr th:only-of-type {\n",
              "        vertical-align: middle;\n",
              "    }\n",
              "\n",
              "    .dataframe tbody tr th {\n",
              "        vertical-align: top;\n",
              "    }\n",
              "\n",
              "    .dataframe thead th {\n",
              "        text-align: right;\n",
              "    }\n",
              "</style>\n",
              "<table border=\"1\" class=\"dataframe\">\n",
              "  <thead>\n",
              "    <tr style=\"text-align: right;\">\n",
              "      <th></th>\n",
              "      <th>tweetid</th>\n",
              "      <th>sentiment</th>\n",
              "    </tr>\n",
              "  </thead>\n",
              "  <tbody>\n",
              "    <tr>\n",
              "      <th>0</th>\n",
              "      <td>169760</td>\n",
              "      <td>1</td>\n",
              "    </tr>\n",
              "    <tr>\n",
              "      <th>1</th>\n",
              "      <td>35326</td>\n",
              "      <td>1</td>\n",
              "    </tr>\n",
              "    <tr>\n",
              "      <th>2</th>\n",
              "      <td>224985</td>\n",
              "      <td>1</td>\n",
              "    </tr>\n",
              "    <tr>\n",
              "      <th>3</th>\n",
              "      <td>476263</td>\n",
              "      <td>1</td>\n",
              "    </tr>\n",
              "    <tr>\n",
              "      <th>4</th>\n",
              "      <td>872928</td>\n",
              "      <td>0</td>\n",
              "    </tr>\n",
              "  </tbody>\n",
              "</table>\n",
              "</div>"
            ],
            "text/plain": [
              "   tweetid  sentiment\n",
              "0   169760          1\n",
              "1    35326          1\n",
              "2   224985          1\n",
              "3   476263          1\n",
              "4   872928          0"
            ]
          },
          "metadata": {},
          "execution_count": 155
        }
      ]
    },
    {
      "cell_type": "code",
      "metadata": {
        "colab": {
          "base_uri": "https://localhost:8080/"
        },
        "id": "bZSkIalFSQmA",
        "outputId": "e1ff8e06-8438-43ff-9b36-11bb45e27a30"
      },
      "source": [
        "submission.shape"
      ],
      "execution_count": null,
      "outputs": [
        {
          "output_type": "execute_result",
          "data": {
            "text/plain": [
              "(10546, 2)"
            ]
          },
          "metadata": {},
          "execution_count": 156
        }
      ]
    },
    {
      "cell_type": "code",
      "metadata": {
        "colab": {
          "base_uri": "https://localhost:8080/",
          "height": 34
        },
        "id": "PV412BAHUGnE",
        "outputId": "802fd6da-5c0c-45cd-c7a2-654cb958660d"
      },
      "source": [
        "from google.colab import files\n",
        "files.download(\"climate_change.csv\")"
      ],
      "execution_count": null,
      "outputs": [
        {
          "output_type": "display_data",
          "data": {
            "application/javascript": [
              "\n",
              "    async function download(id, filename, size) {\n",
              "      if (!google.colab.kernel.accessAllowed) {\n",
              "        return;\n",
              "      }\n",
              "      const div = document.createElement('div');\n",
              "      const label = document.createElement('label');\n",
              "      label.textContent = `Downloading \"${filename}\": `;\n",
              "      div.appendChild(label);\n",
              "      const progress = document.createElement('progress');\n",
              "      progress.max = size;\n",
              "      div.appendChild(progress);\n",
              "      document.body.appendChild(div);\n",
              "\n",
              "      const buffers = [];\n",
              "      let downloaded = 0;\n",
              "\n",
              "      const channel = await google.colab.kernel.comms.open(id);\n",
              "      // Send a message to notify the kernel that we're ready.\n",
              "      channel.send({})\n",
              "\n",
              "      for await (const message of channel.messages) {\n",
              "        // Send a message to notify the kernel that we're ready.\n",
              "        channel.send({})\n",
              "        if (message.buffers) {\n",
              "          for (const buffer of message.buffers) {\n",
              "            buffers.push(buffer);\n",
              "            downloaded += buffer.byteLength;\n",
              "            progress.value = downloaded;\n",
              "          }\n",
              "        }\n",
              "      }\n",
              "      const blob = new Blob(buffers, {type: 'application/binary'});\n",
              "      const a = document.createElement('a');\n",
              "      a.href = window.URL.createObjectURL(blob);\n",
              "      a.download = filename;\n",
              "      div.appendChild(a);\n",
              "      a.click();\n",
              "      div.remove();\n",
              "    }\n",
              "  "
            ],
            "text/plain": [
              "<IPython.core.display.Javascript object>"
            ]
          },
          "metadata": {}
        },
        {
          "output_type": "display_data",
          "data": {
            "application/javascript": [
              "download(\"download_e4d846be-8159-42e3-b997-c41dc5a6161c\", \"climate_change.csv\", 94267)"
            ],
            "text/plain": [
              "<IPython.core.display.Javascript object>"
            ]
          },
          "metadata": {}
        }
      ]
    }
  ]
}